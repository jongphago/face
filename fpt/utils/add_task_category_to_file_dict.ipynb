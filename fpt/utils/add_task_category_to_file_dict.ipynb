{
 "cells": [
  {
   "cell_type": "code",
   "execution_count": 1,
   "metadata": {},
   "outputs": [],
   "source": [
    "import json\n",
    "from os.path import dirname, basename\n",
    "import pandas as pd\n",
    "from fpt.path import DATA, DICT, DTFR"
   ]
  },
  {
   "cell_type": "code",
   "execution_count": 2,
   "metadata": {},
   "outputs": [],
   "source": [
    "# read json dict\n",
    "DICT_CATEGORY = 'file_dict'\n",
    "with open(DICT / f'{DICT_CATEGORY}.txt', 'r') as f:\n",
    "    sample_file_dict = json.load(f)"
   ]
  },
  {
   "cell_type": "code",
   "execution_count": 47,
   "metadata": {},
   "outputs": [],
   "source": [
    "# edit dict\n",
    "for key, value in sample_file_dict.items():\n",
    "    source = sample_file_dict[key]['image']\n",
    "    target = basename(dirname(source))[2:]\n",
    "    if target == 'lndividuals':\n",
    "        target = 'Individuals'\n",
    "    sample_file_dict[key]['category'] = target"
   ]
  },
  {
   "cell_type": "code",
   "execution_count": 48,
   "metadata": {},
   "outputs": [],
   "source": [
    "# write csv\n",
    "DATA_CATEGORY = 'df_aihub_file'\n",
    "# DATA_CATEGORY = 'df_aihub_sample_file'\n",
    "target = DATA / 'dataframe' / f'{DATA_CATEGORY}.csv'\n",
    "pd.DataFrame(sample_file_dict).T.to_csv(target, index_label='key')"
   ]
  },
  {
   "cell_type": "code",
   "execution_count": 4,
   "metadata": {},
   "outputs": [
    {
     "data": {
      "text/plain": [
       "array(['Family', 'Age', 'Individuals'], dtype=object)"
      ]
     },
     "execution_count": 4,
     "metadata": {},
     "output_type": "execute_result"
    }
   ],
   "source": [
    "# Join validation\n",
    "face = pd.read_csv(DTFR / \"df_aihub_sample_face.csv\", index_col=\"key\")\n",
    "file = pd.read_csv(DTFR / \"df_aihub_sample_file.csv\", index_col=\"key\")\n",
    "joined = face.join(file[[\"category\"]], on=\"key\")\n",
    "joined.category.unique()"
   ]
  },
  {
   "cell_type": "code",
   "execution_count": 12,
   "metadata": {},
   "outputs": [
    {
     "data": {
      "text/html": [
       "<div>\n",
       "<style scoped>\n",
       "    .dataframe tbody tr th:only-of-type {\n",
       "        vertical-align: middle;\n",
       "    }\n",
       "\n",
       "    .dataframe tbody tr th {\n",
       "        vertical-align: top;\n",
       "    }\n",
       "\n",
       "    .dataframe thead th {\n",
       "        text-align: right;\n",
       "    }\n",
       "</style>\n",
       "<table border=\"1\" class=\"dataframe\">\n",
       "  <thead>\n",
       "    <tr style=\"text-align: right;\">\n",
       "      <th></th>\n",
       "      <th></th>\n",
       "      <th>uuid</th>\n",
       "    </tr>\n",
       "    <tr>\n",
       "      <th>family_id</th>\n",
       "      <th>personal_id</th>\n",
       "      <th></th>\n",
       "    </tr>\n",
       "  </thead>\n",
       "  <tbody>\n",
       "    <tr>\n",
       "      <th rowspan=\"3\" valign=\"top\">F0001</th>\n",
       "      <th>D</th>\n",
       "      <td>[0be3262f-376e-4f42-bc06-4df99add86e8, 5239e29...</td>\n",
       "    </tr>\n",
       "    <tr>\n",
       "      <th>GM</th>\n",
       "      <td>[af958890-ca32-4c33-afdb-c93daf15d66e, 696cca5...</td>\n",
       "    </tr>\n",
       "    <tr>\n",
       "      <th>M</th>\n",
       "      <td>[ab6f5ace-9367-419c-a46f-f394c2b90a16, 7405c41...</td>\n",
       "    </tr>\n",
       "    <tr>\n",
       "      <th rowspan=\"3\" valign=\"top\">F0003</th>\n",
       "      <th>D</th>\n",
       "      <td>[c74c74bd-d9f7-4093-a542-92bbcfe8662a, e1b4522...</td>\n",
       "    </tr>\n",
       "    <tr>\n",
       "      <th>GM</th>\n",
       "      <td>[32652d60-fc75-4711-9464-436f1f80723f, 2b502cd...</td>\n",
       "    </tr>\n",
       "    <tr>\n",
       "      <th>M</th>\n",
       "      <td>[4f64a643-c675-44f5-aae9-475549626d36, 3425011...</td>\n",
       "    </tr>\n",
       "  </tbody>\n",
       "</table>\n",
       "</div>"
      ],
      "text/plain": [
       "                                                                    uuid\n",
       "family_id personal_id                                                   \n",
       "F0001     D            [0be3262f-376e-4f42-bc06-4df99add86e8, 5239e29...\n",
       "          GM           [af958890-ca32-4c33-afdb-c93daf15d66e, 696cca5...\n",
       "          M            [ab6f5ace-9367-419c-a46f-f394c2b90a16, 7405c41...\n",
       "F0003     D            [c74c74bd-d9f7-4093-a542-92bbcfe8662a, e1b4522...\n",
       "          GM           [32652d60-fc75-4711-9464-436f1f80723f, 2b502cd...\n",
       "          M            [4f64a643-c675-44f5-aae9-475549626d36, 3425011..."
      ]
     },
     "execution_count": 12,
     "metadata": {},
     "output_type": "execute_result"
    }
   ],
   "source": [
    "pd.DataFrame(joined[joined.category=='Age'].groupby(by=['family_id', 'personal_id']).uuid.apply(list))"
   ]
  }
 ],
 "metadata": {
  "kernelspec": {
   "display_name": "face",
   "language": "python",
   "name": "python3"
  },
  "language_info": {
   "codemirror_mode": {
    "name": "ipython",
    "version": 3
   },
   "file_extension": ".py",
   "mimetype": "text/x-python",
   "name": "python",
   "nbconvert_exporter": "python",
   "pygments_lexer": "ipython3",
   "version": "3.7.12"
  },
  "orig_nbformat": 4
 },
 "nbformat": 4,
 "nbformat_minor": 2
}
