{
 "cells": [
  {
   "cell_type": "code",
   "execution_count": null,
   "metadata": {},
   "outputs": [],
   "source": [
    "from facenet_pytorch import InceptionResnetV1\n",
    "from pathlib import Path\n",
    "from PIL import Image\n",
    "import numpy as np\n",
    "import pandas as pd\n",
    "import torch\n",
    "from fpt.path import DTFR, FACE\n",
    "from fpt.path import get_face_image_path_from_series"
   ]
  },
  {
   "cell_type": "code",
   "execution_count": null,
   "metadata": {},
   "outputs": [],
   "source": [
    "resnet = InceptionResnetV1(pretrained='vggface2').eval()"
   ]
  },
  {
   "cell_type": "code",
   "execution_count": null,
   "metadata": {},
   "outputs": [],
   "source": [
    "_df_face = pd.read_csv(\n",
    "    DTFR / \"df_aihub_sample_face.csv\", index_col=\"key\", dtype={\"folder_name\": object}\n",
    ")\n",
    "df_file = pd.read_csv(DTFR / \"df_aihub_sample_file.csv\", index_col=\"key\")\n",
    "df_face = _df_face.join(df_file, on=\"key\")"
   ]
  },
  {
   "cell_type": "code",
   "execution_count": null,
   "metadata": {},
   "outputs": [],
   "source": [
    "def preprocess(face_image_path: Path) -> torch.Tensor:\n",
    "    pil_img = Image.open(face_image_path)\n",
    "    arr_img = np.array(pil_img, dtype=np.float32)\n",
    "    img_cropped = torch.from_numpy(arr_img)\n",
    "    img_cropped = img_cropped.unsqueeze(0)\n",
    "    img_cropped = torch.permute(img_cropped, (0, 3, 1, 2))\n",
    "    return img_cropped"
   ]
  },
  {
   "cell_type": "code",
   "execution_count": null,
   "metadata": {},
   "outputs": [],
   "source": [
    "face_image_path = get_face_image_path_from_series(df_face.iloc[0])\n",
    "img_cropped = preprocess(face_image_path)"
   ]
  },
  {
   "cell_type": "code",
   "execution_count": null,
   "metadata": {},
   "outputs": [],
   "source": [
    "# Calculate embedding (unsqueeze to add batch dimension)\n",
    "resnet.classify = False\n",
    "img_embedding = resnet(img_cropped)\n",
    "img_embedding.shape"
   ]
  },
  {
   "cell_type": "code",
   "execution_count": null,
   "metadata": {},
   "outputs": [],
   "source": [
    "# Or, if using for VGGFace2 classification\n",
    "resnet.classify = True\n",
    "img_probs = resnet(img_cropped)\n",
    "img_probs.shape"
   ]
  }
 ],
 "metadata": {
  "kernelspec": {
   "display_name": "face",
   "language": "python",
   "name": "python3"
  },
  "language_info": {
   "codemirror_mode": {
    "name": "ipython",
    "version": 3
   },
   "file_extension": ".py",
   "mimetype": "text/x-python",
   "name": "python",
   "nbconvert_exporter": "python",
   "pygments_lexer": "ipython3",
   "version": "3.7.12"
  },
  "orig_nbformat": 4
 },
 "nbformat": 4,
 "nbformat_minor": 2
}
