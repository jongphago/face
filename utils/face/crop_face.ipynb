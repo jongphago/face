{
 "cells": [
  {
   "cell_type": "code",
   "execution_count": 2,
   "metadata": {},
   "outputs": [],
   "source": [
    "import os\n",
    "from pathlib import Path\n",
    "import json\n",
    "from PIL import Image\n",
    "import numpy as np\n",
    "from typing import List\n",
    "from tqdm import tqdm\n",
    "import pandas as pd"
   ]
  },
  {
   "cell_type": "code",
   "execution_count": 3,
   "metadata": {},
   "outputs": [],
   "source": [
    "from os.path import basename, dirname"
   ]
  },
  {
   "attachments": {},
   "cell_type": "markdown",
   "metadata": {},
   "source": [
    "# Crop family-sample face"
   ]
  },
  {
   "cell_type": "code",
   "execution_count": 18,
   "metadata": {},
   "outputs": [],
   "source": [
    "FILE_DICT = \"file_dict.txt\"\n",
    "BBOX_DICT = \"bbox_dict.txt\"\n",
    "DATA_CATEGORY = \"aihub_family\""
   ]
  },
  {
   "cell_type": "code",
   "execution_count": 5,
   "metadata": {},
   "outputs": [],
   "source": [
    "# FILE_DICT = \"sample_file_dict.txt\"\n",
    "# BBOX_DICT = \"sample_bbox_dict.txt\"\n",
    "# DATA_CATEGORY = \"aihub_sample\""
   ]
  },
  {
   "attachments": {},
   "cell_type": "markdown",
   "metadata": {},
   "source": [
    "## Data dictionary"
   ]
  },
  {
   "cell_type": "code",
   "execution_count": 6,
   "metadata": {},
   "outputs": [],
   "source": [
    "from fpt.path import DICT, FACE, DTFR"
   ]
  },
  {
   "attachments": {},
   "cell_type": "markdown",
   "metadata": {},
   "source": [
    "### Open sample_file_dict"
   ]
  },
  {
   "cell_type": "code",
   "execution_count": 19,
   "metadata": {},
   "outputs": [],
   "source": [
    "with open(DICT / FILE_DICT, \"r\") as f:\n",
    "    sample_file_dict = json.load(f)"
   ]
  },
  {
   "attachments": {},
   "cell_type": "markdown",
   "metadata": {},
   "source": [
    "### Open sample_bbox_dict"
   ]
  },
  {
   "cell_type": "code",
   "execution_count": 20,
   "metadata": {},
   "outputs": [],
   "source": [
    "with open(DICT / BBOX_DICT, \"r\") as f:\n",
    "    sample_bbox_dict = json.load(f)"
   ]
  },
  {
   "attachments": {},
   "cell_type": "markdown",
   "metadata": {},
   "source": [
    "## Main process"
   ]
  },
  {
   "cell_type": "code",
   "execution_count": 21,
   "metadata": {},
   "outputs": [],
   "source": [
    "from fpt.path import get_face_target_path\n",
    "from fpt.data import crop_faces, init_df_sample_face, create_face_series"
   ]
  },
  {
   "attachments": {},
   "cell_type": "markdown",
   "metadata": {},
   "source": [
    "### Crop faces"
   ]
  },
  {
   "cell_type": "code",
   "execution_count": null,
   "metadata": {},
   "outputs": [],
   "source": [
    "key = \"F0001_GM_M_D_75-45-18_07\"\n",
    "value = sample_bbox_dict[key]\n",
    "image_path = sample_file_dict[key][\"image\"]\n",
    "_ = crop_faces(key, value, image_path, visualize=True)"
   ]
  },
  {
   "cell_type": "code",
   "execution_count": 25,
   "metadata": {},
   "outputs": [
    {
     "name": "stderr",
     "output_type": "stream",
     "text": [
      "  1%|          | 615/95148 [02:12<3:58:13,  6.61it/s] "
     ]
    }
   ],
   "source": [
    "df_sample_face = init_df_sample_face()\n",
    "for key, value in tqdm(sample_bbox_dict.items()):\n",
    "    image_path = sample_file_dict[key][\"image\"]\n",
    "    out = crop_faces(key, value, image_path)\n",
    "    classes = [r[0] for r in value]\n",
    "    for sliced_array, c in zip(out, classes):\n",
    "        target = get_face_target_path(key, c, category=DATA_CATEGORY)\n",
    "        face_image = Image.fromarray(np.uint8(sliced_array))\n",
    "        face_image = face_image.convert('RGB')\n",
    "        face_image.save(target)\n",
    "        series = create_face_series(key, c, DATA_CATEGORY, target)\n",
    "        df_sample_face.loc[target.stem] = series"
   ]
  },
  {
   "cell_type": "code",
   "execution_count": 13,
   "metadata": {},
   "outputs": [],
   "source": [
    "df_sample_face.to_csv(DTFR / f\"df_{DATA_CATEGORY}_face.csv\", index_label='uuid')"
   ]
  },
  {
   "attachments": {},
   "cell_type": "markdown",
   "metadata": {},
   "source": [
    "### Flatten directory"
   ]
  },
  {
   "cell_type": "code",
   "execution_count": 14,
   "metadata": {},
   "outputs": [],
   "source": [
    "from fpt.data import flatten_directory"
   ]
  },
  {
   "cell_type": "code",
   "execution_count": 15,
   "metadata": {},
   "outputs": [],
   "source": [
    "flatten_directory(str(FACE), DATA_CATEGORY)"
   ]
  },
  {
   "attachments": {},
   "cell_type": "markdown",
   "metadata": {},
   "source": [
    "### face image path from series"
   ]
  },
  {
   "cell_type": "code",
   "execution_count": 16,
   "metadata": {},
   "outputs": [],
   "source": [
    "from fpt.path import get_face_image_path_from_series"
   ]
  },
  {
   "cell_type": "code",
   "execution_count": 17,
   "metadata": {},
   "outputs": [
    {
     "data": {
      "text/plain": [
       "PosixPath('/home/jongphago/family-photo-tree/data/face-image/aihub_sample/0000/F0001/F0001-GM/34861585-d1f6-4432-8ff7-93b0af5546aa.jpg')"
      ]
     },
     "execution_count": 17,
     "metadata": {},
     "output_type": "execute_result"
    }
   ],
   "source": [
    "get_face_image_path_from_series(df_sample_face.iloc[0])"
   ]
  }
 ],
 "metadata": {
  "kernelspec": {
   "display_name": "face",
   "language": "python",
   "name": "python3"
  },
  "language_info": {
   "codemirror_mode": {
    "name": "ipython",
    "version": 3
   },
   "file_extension": ".py",
   "mimetype": "text/x-python",
   "name": "python",
   "nbconvert_exporter": "python",
   "pygments_lexer": "ipython3",
   "version": "3.7.12"
  },
  "orig_nbformat": 4
 },
 "nbformat": 4,
 "nbformat_minor": 2
}
