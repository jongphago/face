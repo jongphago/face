{
 "cells": [
  {
   "cell_type": "code",
   "execution_count": null,
   "metadata": {},
   "outputs": [],
   "source": [
    "import pandas as pd\n",
    "from fpt.path import DTFR, DATA"
   ]
  },
  {
   "cell_type": "code",
   "execution_count": null,
   "metadata": {},
   "outputs": [],
   "source": [
    "# DATA_CATEGORY = \"df_aihub_family_file\"\n",
    "DATA_CATEGORY = \"df_aihub_sample_file\"\n",
    "\n",
    "df_aihub_file = pd.read_csv(DTFR / f\"{DATA_CATEGORY}.csv\", index_col=\"key\")\n",
    "df_aihub_file.head()"
   ]
  },
  {
   "cell_type": "code",
   "execution_count": null,
   "metadata": {},
   "outputs": [],
   "source": [
    "group_dict = {\n",
    "    \"a\": 1,\n",
    "    \"b\": 2,\n",
    "    \"c\": 3,\n",
    "    \"d\": 4,\n",
    "    \"e\": 5,\n",
    "    \"f\": 6,\n",
    "    \"g\": 7,\n",
    "    \"h\": 8,\n",
    "}\n",
    "\n",
    "\n",
    "def convert_age_group(x):\n",
    "    age_group = x.name.split('_')[-1]\n",
    "    if len(age_group) == 1:\n",
    "        age_group += \"1\"\n",
    "    group = age_group[-2:-1]\n",
    "    index = age_group[-1:]\n",
    "    if group in group_dict:\n",
    "        group_index = group_dict[group]\n",
    "    else:\n",
    "        group_index = 9\n",
    "        print(x)\n",
    "    return f\"{group_index}0{index}\""
   ]
  },
  {
   "cell_type": "code",
   "execution_count": null,
   "metadata": {},
   "outputs": [],
   "source": [
    "import re\n",
    "p = re.compile(r'[^0-9-]')"
   ]
  },
  {
   "cell_type": "code",
   "execution_count": null,
   "metadata": {},
   "outputs": [],
   "source": [
    "def convert_camera_degree(x):\n",
    "    tag = x.name.split(\"_\")\n",
    "    degree = int(tag[-2]) + 90\n",
    "    degree //= 45\n",
    "    env = tag[-1]\n",
    "    if env.upper() == \"CAM\":\n",
    "        env = \"06\"\n",
    "    else:\n",
    "        env = p.sub(\"\", env)\n",
    "    env = int(env) * 1000\n",
    "    if len(f\"{(env+abs(degree))}\") > 4 or len(f\"{(env+abs(degree))}\") == 0:\n",
    "        return None\n",
    "    if f\"{(env+abs(degree))}\" == \"0\":\n",
    "        return \"1000\"  # F0028_IND_M_42_-90_0.JPG -> ..._01.JPG\n",
    "    return f\"{(env+abs(degree))}\""
   ]
  },
  {
   "cell_type": "code",
   "execution_count": null,
   "metadata": {},
   "outputs": [],
   "source": [
    "category = \"Age\"\n",
    "is_category = df_aihub_file.category == category\n",
    "selected_index = df_aihub_file.index[is_category]\n",
    "target_func = convert_age_group\n",
    "df_aihub_file.loc[selected_index, \"option\"] = df_aihub_file[is_category].apply(\n",
    "    target_func, axis=1\n",
    ")"
   ]
  },
  {
   "cell_type": "code",
   "execution_count": null,
   "metadata": {},
   "outputs": [],
   "source": [
    "category = \"Individuals\"\n",
    "is_category = df_aihub_file.category == category\n",
    "selected_index = df_aihub_file.index[is_category]\n",
    "target_func = convert_camera_degree\n",
    "df_aihub_file.loc[selected_index, \"option\"] = df_aihub_file[is_category].apply(\n",
    "    target_func, axis=1  # type:ignore\n",
    ")"
   ]
  },
  {
   "cell_type": "code",
   "execution_count": null,
   "metadata": {},
   "outputs": [],
   "source": [
    "category = \"Family\"\n",
    "is_category = df_aihub_file.category == category\n",
    "selected_index = df_aihub_file.index[is_category]\n",
    "df_aihub_file.loc[selected_index, \"option\"] = df_aihub_file[is_category].apply(\n",
    "    lambda x:str(x.name.split(\"_\")[-1]), axis=1\n",
    ")"
   ]
  },
  {
   "cell_type": "code",
   "execution_count": null,
   "metadata": {},
   "outputs": [],
   "source": [
    "df_aihub_file.groupby(\"category\").option.apply(list).to_frame()"
   ]
  },
  {
   "cell_type": "code",
   "execution_count": null,
   "metadata": {},
   "outputs": [],
   "source": [
    "df_aihub_file[df_aihub_file.category == 'Individuals'].option.unique()"
   ]
  },
  {
   "cell_type": "code",
   "execution_count": null,
   "metadata": {},
   "outputs": [],
   "source": [
    "target = DATA / \"dataframe\" / f\"{DATA_CATEGORY}.csv\"\n",
    "pd.DataFrame(df_aihub_file).to_csv(target, index_label=\"key\")"
   ]
  }
 ],
 "metadata": {
  "kernelspec": {
   "display_name": "face",
   "language": "python",
   "name": "python3"
  },
  "language_info": {
   "codemirror_mode": {
    "name": "ipython",
    "version": 3
   },
   "file_extension": ".py",
   "mimetype": "text/x-python",
   "name": "python",
   "nbconvert_exporter": "python",
   "pygments_lexer": "ipython3",
   "version": "3.7.12"
  },
  "orig_nbformat": 4
 },
 "nbformat": 4,
 "nbformat_minor": 2
}
