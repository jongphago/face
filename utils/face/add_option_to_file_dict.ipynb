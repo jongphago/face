{
 "cells": [
  {
   "cell_type": "code",
   "execution_count": 7,
   "metadata": {},
   "outputs": [],
   "source": [
    "import pandas as pd\n",
    "from fpt.path import DTFR, DATA"
   ]
  },
  {
   "cell_type": "code",
   "execution_count": 36,
   "metadata": {},
   "outputs": [
    {
     "data": {
      "text/html": [
       "<div>\n",
       "<style scoped>\n",
       "    .dataframe tbody tr th:only-of-type {\n",
       "        vertical-align: middle;\n",
       "    }\n",
       "\n",
       "    .dataframe tbody tr th {\n",
       "        vertical-align: top;\n",
       "    }\n",
       "\n",
       "    .dataframe thead th {\n",
       "        text-align: right;\n",
       "    }\n",
       "</style>\n",
       "<table border=\"1\" class=\"dataframe\">\n",
       "  <thead>\n",
       "    <tr style=\"text-align: right;\">\n",
       "      <th></th>\n",
       "      <th>label</th>\n",
       "      <th>image</th>\n",
       "      <th>category</th>\n",
       "      <th>option</th>\n",
       "    </tr>\n",
       "    <tr>\n",
       "      <th>key</th>\n",
       "      <th></th>\n",
       "      <th></th>\n",
       "      <th></th>\n",
       "      <th></th>\n",
       "    </tr>\n",
       "  </thead>\n",
       "  <tbody>\n",
       "    <tr>\n",
       "      <th>F0006_GF_F_D_70-42-12_06</th>\n",
       "      <td>/home/jupyter/data/aihub_family/01.데이터/1.Train...</td>\n",
       "      <td>/home/jupyter/data/aihub_family/01.데이터/1.Train...</td>\n",
       "      <td>Family</td>\n",
       "      <td>NaN</td>\n",
       "    </tr>\n",
       "    <tr>\n",
       "      <th>F0006_GF_F_D_70-42-12_07</th>\n",
       "      <td>/home/jupyter/data/aihub_family/01.데이터/1.Train...</td>\n",
       "      <td>/home/jupyter/data/aihub_family/01.데이터/1.Train...</td>\n",
       "      <td>Family</td>\n",
       "      <td>NaN</td>\n",
       "    </tr>\n",
       "    <tr>\n",
       "      <th>F0006_GF_F_D_70-42-12_04</th>\n",
       "      <td>/home/jupyter/data/aihub_family/01.데이터/1.Train...</td>\n",
       "      <td>/home/jupyter/data/aihub_family/01.데이터/1.Train...</td>\n",
       "      <td>Family</td>\n",
       "      <td>NaN</td>\n",
       "    </tr>\n",
       "    <tr>\n",
       "      <th>F0006_GF_F_D_70-42-12_01</th>\n",
       "      <td>/home/jupyter/data/aihub_family/01.데이터/1.Train...</td>\n",
       "      <td>/home/jupyter/data/aihub_family/01.데이터/1.Train...</td>\n",
       "      <td>Family</td>\n",
       "      <td>NaN</td>\n",
       "    </tr>\n",
       "    <tr>\n",
       "      <th>F0006_GF_F_D_70-42-12_03</th>\n",
       "      <td>/home/jupyter/data/aihub_family/01.데이터/1.Train...</td>\n",
       "      <td>/home/jupyter/data/aihub_family/01.데이터/1.Train...</td>\n",
       "      <td>Family</td>\n",
       "      <td>NaN</td>\n",
       "    </tr>\n",
       "  </tbody>\n",
       "</table>\n",
       "</div>"
      ],
      "text/plain": [
       "                                                                      label  \\\n",
       "key                                                                           \n",
       "F0006_GF_F_D_70-42-12_06  /home/jupyter/data/aihub_family/01.데이터/1.Train...   \n",
       "F0006_GF_F_D_70-42-12_07  /home/jupyter/data/aihub_family/01.데이터/1.Train...   \n",
       "F0006_GF_F_D_70-42-12_04  /home/jupyter/data/aihub_family/01.데이터/1.Train...   \n",
       "F0006_GF_F_D_70-42-12_01  /home/jupyter/data/aihub_family/01.데이터/1.Train...   \n",
       "F0006_GF_F_D_70-42-12_03  /home/jupyter/data/aihub_family/01.데이터/1.Train...   \n",
       "\n",
       "                                                                      image  \\\n",
       "key                                                                           \n",
       "F0006_GF_F_D_70-42-12_06  /home/jupyter/data/aihub_family/01.데이터/1.Train...   \n",
       "F0006_GF_F_D_70-42-12_07  /home/jupyter/data/aihub_family/01.데이터/1.Train...   \n",
       "F0006_GF_F_D_70-42-12_04  /home/jupyter/data/aihub_family/01.데이터/1.Train...   \n",
       "F0006_GF_F_D_70-42-12_01  /home/jupyter/data/aihub_family/01.데이터/1.Train...   \n",
       "F0006_GF_F_D_70-42-12_03  /home/jupyter/data/aihub_family/01.데이터/1.Train...   \n",
       "\n",
       "                         category option  \n",
       "key                                       \n",
       "F0006_GF_F_D_70-42-12_06   Family    NaN  \n",
       "F0006_GF_F_D_70-42-12_07   Family    NaN  \n",
       "F0006_GF_F_D_70-42-12_04   Family    NaN  \n",
       "F0006_GF_F_D_70-42-12_01   Family    NaN  \n",
       "F0006_GF_F_D_70-42-12_03   Family    NaN  "
      ]
     },
     "execution_count": 36,
     "metadata": {},
     "output_type": "execute_result"
    }
   ],
   "source": [
    "DATA_CATEGORY = 'df_aihub_file'\n",
    "# DATA_CATEGORY = \"df_aihub_sample_file\"\n",
    "\n",
    "df_aihub_file = pd.read_csv(DTFR / f\"{DATA_CATEGORY}.csv\", index_col=\"key\")\n",
    "df_aihub_file.head()"
   ]
  },
  {
   "cell_type": "code",
   "execution_count": 106,
   "metadata": {},
   "outputs": [],
   "source": [
    "group_dict = {\n",
    "    \"a\": 1,\n",
    "    \"b\": 2,\n",
    "    \"c\": 3,\n",
    "    \"d\": 4,\n",
    "    \"e\": 5,\n",
    "    \"f\": 6,\n",
    "    \"g\": 7,\n",
    "    \"h\": 8,\n",
    "}\n",
    "\n",
    "\n",
    "def convert_age_group(x):\n",
    "    age_group = x.name.split('_')[-1]\n",
    "    if len(age_group) == 1:\n",
    "        age_group += \"1\"\n",
    "    group = age_group[-2:-1]\n",
    "    index = age_group[-1:]\n",
    "    if group in group_dict:\n",
    "        group_index = group_dict[group]\n",
    "    else:\n",
    "        group_index = 9\n",
    "        print(x)\n",
    "    return f\"{group_index}{index}0\""
   ]
  },
  {
   "cell_type": "code",
   "execution_count": 56,
   "metadata": {},
   "outputs": [],
   "source": [
    "import re\n",
    "p = re.compile(r'[^0-9-]')"
   ]
  },
  {
   "cell_type": "code",
   "execution_count": 113,
   "metadata": {},
   "outputs": [],
   "source": [
    "def convert_camera_degree(x):\n",
    "    tag = x.name.split(\"_\")\n",
    "    degree = int(tag[-2]) + 90\n",
    "    env = tag[-1]\n",
    "    if env.upper() == \"CAM\":\n",
    "        env = \"06\"\n",
    "    else:\n",
    "        env = p.sub(\"\", env)\n",
    "    env = int(env) * 1000\n",
    "    if len(f\"{(env+abs(degree))}\") > 4 or len(f\"{(env+abs(degree))}\") == 0:\n",
    "        print(x)\n",
    "    return f\"{(env+abs(degree))}\""
   ]
  },
  {
   "cell_type": "code",
   "execution_count": 107,
   "metadata": {},
   "outputs": [],
   "source": [
    "category = \"Age\"\n",
    "is_category = df_aihub_file.category == category\n",
    "selected_index = df_aihub_file.index[is_category]\n",
    "target_func = convert_age_group\n",
    "df_aihub_file.loc[selected_index, \"option\"] = df_aihub_file[is_category].apply(\n",
    "    target_func, axis=1\n",
    ")"
   ]
  },
  {
   "cell_type": "code",
   "execution_count": 114,
   "metadata": {},
   "outputs": [
    {
     "name": "stdout",
     "output_type": "stream",
     "text": [
      "label       /home/jupyter/data/aihub_family/01.데이터/1.Train...\n",
      "image       /home/jupyter/data/aihub_family/01.데이터/1.Train...\n",
      "category                                          Individuals\n",
      "option                                                  45045\n",
      "Name: F0429_IND_D2_13_-45_045, dtype: object\n",
      "label       /home/jupyter/data/aihub_family/01.데이터/1.Train...\n",
      "image       /home/jupyter/data/aihub_family/01.데이터/1.Train...\n",
      "category                                          Individuals\n",
      "option                                                  45045\n",
      "Name: F0428_IND_D2_13_-45_045, dtype: object\n",
      "label       /home/jupyter/data/aihub_family/01.데이터/1.Train...\n",
      "image       /home/jupyter/data/aihub_family/01.데이터/1.Train...\n",
      "category                                          Individuals\n",
      "option                                                  14180\n",
      "Name: F0156_IND_M_44_90_014, dtype: object\n",
      "label       /home/jupyter/data/aihub_family/01.데이터/1.Train...\n",
      "image       /home/jupyter/data/aihub_family/01.데이터/1.Train...\n",
      "category                                          Individuals\n",
      "option                                                 -44863\n",
      "Name: F0039_IND_F_47_-45CAM, dtype: object\n",
      "label       /home/jupyter/data/aihub_family/01.데이터/1.Train...\n",
      "image       /home/jupyter/data/aihub_family/01.데이터/1.Train...\n",
      "category                                          Individuals\n",
      "option                                                  90109\n",
      "Name: F0618_IND_D2_19_90, dtype: object\n",
      "label       /home/jupyter/data/aihub_family/01.데이터/1.Train...\n",
      "image       /home/jupyter/data/aihub_family/01.데이터/1.Train...\n",
      "category                                          Individuals\n",
      "option                                                 -44891\n",
      "Name: F0618_IND_D2_19_-45, dtype: object\n",
      "label       /home/jupyter/data/aihub_family/01.데이터/1.Train...\n",
      "image       /home/jupyter/data/aihub_family/01.데이터/1.Train...\n",
      "category                                          Individuals\n",
      "option                                                 -89891\n",
      "Name: F0618_IND_D2_19_-90, dtype: object\n",
      "label       /home/jupyter/data/aihub_family/01.데이터/1.Train...\n",
      "image       /home/jupyter/data/aihub_family/01.데이터/1.Train...\n",
      "category                                          Individuals\n",
      "option                                                  45109\n",
      "Name: F0618_IND_D2_19_45, dtype: object\n",
      "label       /home/jupyter/data/aihub_family/01.데이터/1.Train...\n",
      "image       /home/jupyter/data/aihub_family/01.데이터/1.Train...\n",
      "category                                          Individuals\n",
      "option                                                  45109\n",
      "Name: F0617_IND_D2_19_45, dtype: object\n",
      "label       /home/jupyter/data/aihub_family/01.데이터/1.Train...\n",
      "image       /home/jupyter/data/aihub_family/01.데이터/1.Train...\n",
      "category                                          Individuals\n",
      "option                                                 -44891\n",
      "Name: F0617_IND_D2_19_-45, dtype: object\n",
      "label       /home/jupyter/data/aihub_family/01.데이터/1.Train...\n",
      "image       /home/jupyter/data/aihub_family/01.데이터/1.Train...\n",
      "category                                          Individuals\n",
      "option                                                 -89891\n",
      "Name: F0617_IND_D2_19_-90, dtype: object\n",
      "label       /home/jupyter/data/aihub_family/01.데이터/1.Train...\n",
      "image       /home/jupyter/data/aihub_family/01.데이터/1.Train...\n",
      "category                                          Individuals\n",
      "option                                                  90109\n",
      "Name: F0617_IND_D2_19_90, dtype: object\n"
     ]
    }
   ],
   "source": [
    "category = \"Individuals\"\n",
    "is_category = df_aihub_file.category == category\n",
    "selected_index = df_aihub_file.index[is_category]\n",
    "target_func = convert_camera_degree\n",
    "df_aihub_file.loc[selected_index, \"option\"] = df_aihub_file[is_category].apply(\n",
    "    target_func, axis=1\n",
    ")"
   ]
  },
  {
   "cell_type": "code",
   "execution_count": 85,
   "metadata": {},
   "outputs": [],
   "source": [
    "category = \"Family\"\n",
    "is_category = df_aihub_file.category == category\n",
    "selected_index = df_aihub_file.index[is_category]\n",
    "df_aihub_file.loc[selected_index, \"option\"] = df_aihub_file[is_category].apply(\n",
    "    lambda x:x.name.split(\"_\")[-1], axis=1\n",
    ")"
   ]
  },
  {
   "cell_type": "code",
   "execution_count": 108,
   "metadata": {},
   "outputs": [
    {
     "data": {
      "text/html": [
       "<div>\n",
       "<style scoped>\n",
       "    .dataframe tbody tr th:only-of-type {\n",
       "        vertical-align: middle;\n",
       "    }\n",
       "\n",
       "    .dataframe tbody tr th {\n",
       "        vertical-align: top;\n",
       "    }\n",
       "\n",
       "    .dataframe thead th {\n",
       "        text-align: right;\n",
       "    }\n",
       "</style>\n",
       "<table border=\"1\" class=\"dataframe\">\n",
       "  <thead>\n",
       "    <tr style=\"text-align: right;\">\n",
       "      <th></th>\n",
       "      <th>option</th>\n",
       "    </tr>\n",
       "    <tr>\n",
       "      <th>category</th>\n",
       "      <th></th>\n",
       "    </tr>\n",
       "  </thead>\n",
       "  <tbody>\n",
       "    <tr>\n",
       "      <th>Age</th>\n",
       "      <td>[420, 530, 210, 720, 210, 520, 630, 410, 420, ...</td>\n",
       "    </tr>\n",
       "    <tr>\n",
       "      <th>Family</th>\n",
       "      <td>[06, 07, 04, 01, 03, 02, 08, 05, 09, 04, 02, 0...</td>\n",
       "    </tr>\n",
       "    <tr>\n",
       "      <th>Individuals</th>\n",
       "      <td>[6105, 6120, 6060, 4045, 4135, 1090, 5090, 400...</td>\n",
       "    </tr>\n",
       "  </tbody>\n",
       "</table>\n",
       "</div>"
      ],
      "text/plain": [
       "                                                        option\n",
       "category                                                      \n",
       "Age          [420, 530, 210, 720, 210, 520, 630, 410, 420, ...\n",
       "Family       [06, 07, 04, 01, 03, 02, 08, 05, 09, 04, 02, 0...\n",
       "Individuals  [6105, 6120, 6060, 4045, 4135, 1090, 5090, 400..."
      ]
     },
     "execution_count": 108,
     "metadata": {},
     "output_type": "execute_result"
    }
   ],
   "source": [
    "df_aihub_file.groupby(\"category\").option.apply(list).to_frame()"
   ]
  },
  {
   "cell_type": "code",
   "execution_count": 110,
   "metadata": {},
   "outputs": [
    {
     "data": {
      "text/plain": [
       "array(['6105', '6120', '6060', '4045', '4135', '1090', '5090', '4000',\n",
       "       '6030', '1045', '3045', '1135', '4180', '2090', '2000', '6075',\n",
       "       '4090', '6045', '6180', '6135', '3135', '2135', '2045', '1180',\n",
       "       '3000', '2180', '3090', '6000', '3180', '6090', '1000', '6150',\n",
       "       '5180', '45045', '14180', '-44863', '0', '90109', '-44891',\n",
       "       '-89891', '45109'], dtype=object)"
      ]
     },
     "execution_count": 110,
     "metadata": {},
     "output_type": "execute_result"
    }
   ],
   "source": [
    "df_aihub_file[df_aihub_file.category == 'Individuals'].option.unique()"
   ]
  },
  {
   "cell_type": "code",
   "execution_count": 35,
   "metadata": {},
   "outputs": [],
   "source": [
    "target = DATA / \"dataframe\" / f\"{DATA_CATEGORY}.csv\"\n",
    "pd.DataFrame(df_aihub_file).to_csv(target, index_label=\"key\")"
   ]
  }
 ],
 "metadata": {
  "kernelspec": {
   "display_name": "face",
   "language": "python",
   "name": "python3"
  },
  "language_info": {
   "codemirror_mode": {
    "name": "ipython",
    "version": 3
   },
   "file_extension": ".py",
   "mimetype": "text/x-python",
   "name": "python",
   "nbconvert_exporter": "python",
   "pygments_lexer": "ipython3",
   "version": "3.7.12"
  },
  "orig_nbformat": 4
 },
 "nbformat": 4,
 "nbformat_minor": 2
}
