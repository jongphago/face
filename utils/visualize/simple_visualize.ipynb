{
 "cells": [
  {
   "cell_type": "code",
   "execution_count": null,
   "metadata": {},
   "outputs": [],
   "source": [
    "from PIL import Image\n",
    "import matplotlib.pyplot as plt\n",
    "import pandas as pd\n",
    "import numpy as np\n",
    "from fpt.path import DTFR\n",
    "from fpt.path import get_face_image_path_from_series as get_path\n",
    "from fpt.data import set_ax_locator"
   ]
  },
  {
   "cell_type": "code",
   "execution_count": null,
   "metadata": {},
   "outputs": [],
   "source": [
    "from pathlib import Path"
   ]
  },
  {
   "cell_type": "code",
   "execution_count": null,
   "metadata": {},
   "outputs": [],
   "source": [
    "_file = pd.read_csv(\n",
    "    DTFR / \"df_aihub_sample_file.csv\", index_col=\"key\", dtype={\"folder_name\": int}\n",
    ")\n",
    "_face = pd.read_csv(\n",
    "    DTFR / \"df_aihub_sample_face.csv\", index_col=\"key\", dtype={\"folder_name\": object}\n",
    ")\n",
    "face = _face.join(_file, on=\"key\")\n",
    "face.loc[:, \"path\"] = face.apply(lambda x: str(get_path(x)), axis=1)\n",
    "face = face.sort_values([\"family_id\", \"personal_id\", \"category\", \"option\"])"
   ]
  },
  {
   "cell_type": "code",
   "execution_count": null,
   "metadata": {},
   "outputs": [],
   "source": [
    "uuid_face = face.set_index('uuid')"
   ]
  },
  {
   "cell_type": "code",
   "execution_count": null,
   "metadata": {},
   "outputs": [],
   "source": [
    "out = face.groupby(['family_id', 'personal_id', 'category']).path.apply(list).to_frame()"
   ]
  },
  {
   "cell_type": "code",
   "execution_count": null,
   "metadata": {},
   "outputs": [],
   "source": [
    "def concat_tags(uuid_series):\n",
    "    _tags = uuid_series[['family_id', 'personal_id', 'option']].to_list()\n",
    "    tags = [str(t) for t in _tags]\n",
    "    return '-'.join(tags)"
   ]
  },
  {
   "cell_type": "code",
   "execution_count": null,
   "metadata": {},
   "outputs": [],
   "source": [
    "def draw_grid_gallery(target_imgs, file_name, cols=5):\n",
    "    cols = 5\n",
    "    SIZE = 80\n",
    "    rows = len(target_imgs) // cols\n",
    "    if len(target_imgs) % cols != 0:\n",
    "        rows += 1\n",
    "    fig, axs = plt.subplots(\n",
    "        nrows=rows,\n",
    "        ncols=cols,\n",
    "        figsize=(4 * cols, 4 * rows),\n",
    "        gridspec_kw={\"wspace\": 0.1},\n",
    "        constrained_layout=True,\n",
    "        squeeze=False,\n",
    "    )\n",
    "    fig.set_facecolor('none')\n",
    "    for index, img in enumerate(target_imgs):\n",
    "        r, c = index // cols, index % cols\n",
    "        ax = axs[r, c]  # type: ignore\n",
    "        ax.imshow(np.asarray(Image.open(img).resize((SIZE, SIZE))))\n",
    "        uuid_series = uuid_face.loc[Path(img).stem]\n",
    "        ax.set_xlabel(concat_tags(uuid_series))\n",
    "        ax = set_ax_locator(ax, (SIZE, SIZE))\n",
    "    plt.subplots_adjust(hspace=0.1, wspace=0.1)  # Adjust the space between subplots\n",
    "    fig.savefig(f'/home/jupyter/Desktop/{file_name}.png', transparent=True)  # Save the figure with a transparent background"
   ]
  },
  {
   "cell_type": "code",
   "execution_count": null,
   "metadata": {},
   "outputs": [],
   "source": [
    "target_imgs = out.loc[(\"F0001\", \"D\", \"Age\"), :]\n",
    "draw_grid_gallery(target_imgs.path[::2], file_name=\"F0001-D-Age\")"
   ]
  },
  {
   "cell_type": "code",
   "execution_count": null,
   "metadata": {},
   "outputs": [],
   "source": [
    "target_imgs = out.loc[(\"F0001\", \"D\", \"Family\"), :]\n",
    "draw_grid_gallery(target_imgs.path[:5], file_name=\"F0001-D-Family\")"
   ]
  },
  {
   "cell_type": "code",
   "execution_count": null,
   "metadata": {},
   "outputs": [],
   "source": [
    "target_imgs = out.loc[(\"F0001\", \"D\", \"Individuals\"), :]\n",
    "draw_grid_gallery(target_imgs.path[21:31], file_name=\"F0001-D-Ind\")"
   ]
  },
  {
   "cell_type": "code",
   "execution_count": null,
   "metadata": {},
   "outputs": [],
   "source": [
    "draw_grid_gallery(\n",
    "    out.loc[(\"F0001\", \"D\", \"Age\"), :].path[::2]\n",
    "    + out.loc[(\"F0001\", \"D\", \"Family\"), :].path[:5]\n",
    "    + out.loc[(\"F0001\", \"D\", \"Individuals\"), :].path[21:31], \n",
    "    file_name=\"F0001-D-Sample\"\n",
    ")"
   ]
  },
  {
   "cell_type": "code",
   "execution_count": null,
   "metadata": {},
   "outputs": [],
   "source": []
  }
 ],
 "metadata": {
  "kernelspec": {
   "display_name": "face",
   "language": "python",
   "name": "python3"
  },
  "language_info": {
   "codemirror_mode": {
    "name": "ipython",
    "version": 3
   },
   "file_extension": ".py",
   "mimetype": "text/x-python",
   "name": "python",
   "nbconvert_exporter": "python",
   "pygments_lexer": "ipython3",
   "version": "3.7.12"
  },
  "orig_nbformat": 4
 },
 "nbformat": 4,
 "nbformat_minor": 2
}
