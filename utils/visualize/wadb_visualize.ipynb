{
 "cells": [
  {
   "cell_type": "code",
   "execution_count": null,
   "metadata": {},
   "outputs": [],
   "source": [
    "import pandas as pd\n",
    "import wandb\n",
    "\n",
    "api = wandb.Api()"
   ]
  },
  {
   "cell_type": "code",
   "execution_count": null,
   "metadata": {},
   "outputs": [],
   "source": [
    "import seaborn as sns\n",
    "import matplotlib.pyplot as plt\n",
    "from matplotlib import font_manager\n",
    "\n",
    "# Set global figure background color\n",
    "plt.style.use('seaborn-whitegrid')\n",
    "plt.rcParams[\"figure.facecolor\"] = \"white\"\n",
    "sns.set(style=\"white\")\n",
    "\n",
    "# 한글 폰트 설정\n",
    "font_name = font_manager.FontProperties(\n",
    "    fname=\"/usr/share/fonts/NanumFont/NanumGothicBold.ttf\"\n",
    ").get_name()\n",
    "plt.rc(\"font\", family=font_name)"
   ]
  },
  {
   "cell_type": "code",
   "execution_count": null,
   "metadata": {},
   "outputs": [],
   "source": [
    "sorted_columns = [\n",
    "    (\"Basic\", \"a/accuracy\"),\n",
    "    (\"Basic\", \"ac/accuracy\"),\n",
    "    (\"Basic\", \"f/accuracy\"),\n",
    "    (\"Basic\", \"fc/accuracy\"),\n",
    "    (\"Basic\", \"fn/accuracy\"),\n",
    "    (\"Basic\", \"g/accuracy\"),\n",
    "    (\"Basic\", \"gc/accuracy\"),\n",
    "    (\"Family\", \"a/accuracy\"),\n",
    "    (\"Family\", \"ca/accuracy\"),\n",
    "    (\"Family\", \"g/accuracy\"),\n",
    "    (\"Family\", \"cg/accuracy\"),\n",
    "    (\"Family\", \"ag/accuracy\"),\n",
    "    (\"Family\", \"cag/accuracy\"),\n",
    "    (\"Personal\", \"a/accuracy\"),\n",
    "    (\"Personal\", \"ac/accuracy\"),\n",
    "]\n",
    "\n",
    "sorted_index = [\n",
    "    \"single-fr-ver-1-230529_0140-230602_1942\",\n",
    "    \"dual-frkr-ver-1-230602_2021-230606_2104\",\n",
    "    \"triple-fraekr-ver-1-230601_1838-230602_2112\",\n",
    "]"
   ]
  },
  {
   "cell_type": "code",
   "execution_count": null,
   "metadata": {},
   "outputs": [],
   "source": [
    "# Project is specified by <entity/project-name>\n",
    "runs = api.runs(\"jongphago/test_validation\")"
   ]
  },
  {
   "cell_type": "code",
   "execution_count": null,
   "metadata": {},
   "outputs": [],
   "source": [
    "summary_list, config_list, name_list = [], [], []\n",
    "for run in runs:\n",
    "    # .summary contains the output keys/values for metrics like accuracy.\n",
    "    #  We call ._json_dict to omit large files\n",
    "    summary_list.append(run.summary._json_dict)\n",
    "\n",
    "    # .config contains the hyperparameters.\n",
    "    #  We remove special values that start with _.\n",
    "    config_list.append({k: v for k, v in run.config.items() if not k.startswith(\"_\")})\n",
    "\n",
    "    # .name is the human-readable name of the run.\n",
    "    name_list.append(run.name)"
   ]
  },
  {
   "cell_type": "code",
   "execution_count": null,
   "metadata": {},
   "outputs": [],
   "source": [
    "runs_df = pd.DataFrame(\n",
    "    {\"summary\": summary_list, \"config\": config_list, \"name\": name_list}\n",
    ")\n",
    "\n",
    "runs_df.to_csv(\"project.csv\")\n",
    "runs_df.drop(2, inplace=True)"
   ]
  },
  {
   "cell_type": "code",
   "execution_count": null,
   "metadata": {},
   "outputs": [],
   "source": [
    "_summary_df = pd.DataFrame(\n",
    "    {name: summary for summary, name in zip(runs_df.summary, runs_df.name)}\n",
    ").T\n",
    "_summary_df = _summary_df[\n",
    "    sorted(_summary_df.columns[~_summary_df.columns.str.startswith(\"_\")])\n",
    "]\n",
    "\n",
    "# 컬럼 이름을 분리하여 멀티 인덱스로 설정\n",
    "_summary_df.columns = pd.MultiIndex.from_tuples(\n",
    "    [tuple(c.split(\"-\")) for c in _summary_df.columns]\n",
    ")\n",
    "\n",
    "summary_df = _summary_df.loc[sorted_index, sorted_columns].T.copy()\n",
    "summary_df = summary_df.astype(float, copy=True)"
   ]
  },
  {
   "cell_type": "code",
   "execution_count": null,
   "metadata": {},
   "outputs": [],
   "source": [
    "# 컬럼명에서 첫 번째 원소를 추출하여 X축 라벨로 사용합니다.\n",
    "edited_x_label = summary_df.columns.str.rsplit(\"-\", 4).map(lambda x: x[0].upper())\n",
    "\n",
    "# 그림 크기를 설정하고, 히트맵을 생성합니다.\n",
    "fig, ax = plt.subplots(figsize=(10, 8))\n",
    "\n",
    "# 히트맵 생성\n",
    "sns.heatmap(\n",
    "    summary_df,\n",
    "    annot=True,\n",
    "    cmap=\"coolwarm\",\n",
    "    fmt=\".4g\",\n",
    "    cbar_kws={\"label\": \"Accuracy\"},\n",
    "    xticklabels=edited_x_label,\n",
    "    ax=ax,\n",
    ")\n",
    "print(\"Figure | 멀티 태스크 모델별 얼굴 검증 데이터셋 정확도\")\n",
    "\n",
    "# 타이틀과 라벨을 설정합니다.\n",
    "ax.set_title(\"멀티 태스크 모델별 얼굴 검증 데이터셋 정확도\", fontsize=15)\n",
    "ax.set_xlabel(\"얼굴 검증 데이터셋 종류\", fontsize=12)\n",
    "ax.set_ylabel(\"멀티 태스크 모델 종류\", fontsize=12)\n",
    "\n",
    "# x, y 축 라벨의 회전 각도를 설정합니다.\n",
    "plt.xticks(rotation=45)\n",
    "# plt.yticks(rotation=45)\n",
    "\n",
    "# 그래프를 출력합니다.\n",
    "plt.show()\n"
   ]
  },
  {
   "cell_type": "code",
   "execution_count": null,
   "metadata": {},
   "outputs": [],
   "source": []
  }
 ],
 "metadata": {
  "kernelspec": {
   "display_name": "face",
   "language": "python",
   "name": "python3"
  },
  "language_info": {
   "codemirror_mode": {
    "name": "ipython",
    "version": 3
   },
   "file_extension": ".py",
   "mimetype": "text/x-python",
   "name": "python",
   "nbconvert_exporter": "python",
   "pygments_lexer": "ipython3",
   "version": "3.7.12"
  },
  "orig_nbformat": 4
 },
 "nbformat": 4,
 "nbformat_minor": 2
}
