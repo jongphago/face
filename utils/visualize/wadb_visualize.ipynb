{
 "cells": [
  {
   "cell_type": "code",
   "execution_count": null,
   "metadata": {},
   "outputs": [],
   "source": [
    "import numpy as np\n",
    "import pandas as pd\n",
    "import wandb\n",
    "\n",
    "api = wandb.Api()"
   ]
  },
  {
   "cell_type": "code",
   "execution_count": null,
   "metadata": {},
   "outputs": [],
   "source": [
    "import seaborn as sns\n",
    "import matplotlib.pyplot as plt\n",
    "from matplotlib import font_manager\n",
    "\n",
    "# Set global figure background color\n",
    "plt.style.use('seaborn-whitegrid')\n",
    "plt.rcParams[\"figure.facecolor\"] = \"white\"\n",
    "sns.set(style=\"white\")\n",
    "\n",
    "# 한글 폰트 설정\n",
    "font_name = font_manager.FontProperties(\n",
    "    fname=\"/usr/share/fonts/NanumFont/NanumGothicBold.ttf\"\n",
    ").get_name()\n",
    "plt.rc(\"font\", family=font_name)\n",
    "plt.rcParams[\"axes.unicode_minus\"] = False"
   ]
  },
  {
   "attachments": {},
   "cell_type": "markdown",
   "metadata": {},
   "source": [
    "# Figure | 멀티 태스크 모델별 얼굴 검증 데이터셋 정확도"
   ]
  },
  {
   "cell_type": "code",
   "execution_count": null,
   "metadata": {},
   "outputs": [],
   "source": [
    "sorted_columns = [\n",
    "    (\"Basic\", \"a/accuracy\"),\n",
    "    (\"Basic\", \"ac/accuracy\"),\n",
    "    (\"Basic\", \"f/accuracy\"),\n",
    "    (\"Basic\", \"fc/accuracy\"),\n",
    "    (\"Basic\", \"fn/accuracy\"),\n",
    "    (\"Basic\", \"g/accuracy\"),\n",
    "    (\"Basic\", \"gc/accuracy\"),\n",
    "    (\"Family\", \"a/accuracy\"),\n",
    "    (\"Family\", \"ca/accuracy\"),\n",
    "    (\"Family\", \"g/accuracy\"),\n",
    "    (\"Family\", \"cg/accuracy\"),\n",
    "    (\"Family\", \"ag/accuracy\"),\n",
    "    (\"Family\", \"cag/accuracy\"),\n",
    "    (\"Personal\", \"a/accuracy\"),\n",
    "    (\"Personal\", \"ac/accuracy\"),\n",
    "]\n",
    "\n",
    "sorted_index = [\n",
    "    \"single-fr-ver-1-230529_0140-230602_1942\",\n",
    "    \"dual-frkr-ver-1-230602_2021-230606_2104\",\n",
    "    \"triple-fraekr-ver-1-230601_1838-230602_2112\",\n",
    "]"
   ]
  },
  {
   "cell_type": "code",
   "execution_count": null,
   "metadata": {},
   "outputs": [],
   "source": [
    "# Project is specified by <entity/project-name>\n",
    "runs = api.runs(\"jongphago/test_validation\")"
   ]
  },
  {
   "cell_type": "code",
   "execution_count": null,
   "metadata": {},
   "outputs": [],
   "source": [
    "summary_list, config_list, name_list = [], [], []\n",
    "for run in runs:\n",
    "    # .summary contains the output keys/values for metrics like accuracy.\n",
    "    #  We call ._json_dict to omit large files\n",
    "    summary_list.append(run.summary._json_dict)\n",
    "\n",
    "    # .config contains the hyperparameters.\n",
    "    #  We remove special values that start with _.\n",
    "    config_list.append({k: v for k, v in run.config.items() if not k.startswith(\"_\")})\n",
    "\n",
    "    # .name is the human-readable name of the run.\n",
    "    name_list.append(run.name)"
   ]
  },
  {
   "cell_type": "code",
   "execution_count": null,
   "metadata": {},
   "outputs": [],
   "source": [
    "runs_df = pd.DataFrame(\n",
    "    {\"summary\": summary_list, \"config\": config_list, \"name\": name_list}\n",
    ")\n",
    "\n",
    "runs_df.to_csv(\"project.csv\")\n",
    "runs_df.drop(2, inplace=True)"
   ]
  },
  {
   "cell_type": "code",
   "execution_count": null,
   "metadata": {},
   "outputs": [],
   "source": [
    "_summary_df = pd.DataFrame(\n",
    "    {name: summary for summary, name in zip(runs_df.summary, runs_df.name)}\n",
    ").T\n",
    "_summary_df = _summary_df[\n",
    "    sorted(_summary_df.columns[~_summary_df.columns.str.startswith(\"_\")])\n",
    "]\n",
    "\n",
    "# 컬럼 이름을 분리하여 멀티 인덱스로 설정\n",
    "_summary_df.columns = pd.MultiIndex.from_tuples(\n",
    "    [tuple(c.split(\"-\")) for c in _summary_df.columns]\n",
    ")\n",
    "\n",
    "summary_df = _summary_df.loc[sorted_index, sorted_columns].T.copy()\n",
    "summary_df = summary_df.astype(float, copy=True)"
   ]
  },
  {
   "cell_type": "code",
   "execution_count": null,
   "metadata": {},
   "outputs": [],
   "source": [
    "summary_df.mean()"
   ]
  },
  {
   "cell_type": "code",
   "execution_count": null,
   "metadata": {},
   "outputs": [],
   "source": [
    "temp = summary_df.copy()\n",
    "temp.columns = temp.columns.str.split('-').map(lambda x: x[0])\n",
    "temp.iloc[:, :1]"
   ]
  },
  {
   "cell_type": "code",
   "execution_count": null,
   "metadata": {},
   "outputs": [],
   "source": [
    "diff_index = 1, 0  # Dual, single\n",
    "diff_index = 2, 0  # Triple, single\n",
    "acc_df1, acc_df2 = summary_df.T.iloc[diff_index[0]],  summary_df.T.iloc[diff_index[1]]\n",
    "name1, name2 = acc_df1.name.split('-')[0], acc_df2.name.split('-')[0]\n",
    "diff_pair = np.subtract(acc_df1, acc_df2)\n",
    "acc_diff_df = diff_pair.to_frame(\n",
    "    name=\"Accuracy difference\"\n",
    ")\n",
    "\n",
    "# 히트맵 생성\n",
    "sns.heatmap(\n",
    "    acc_diff_df,\n",
    "    annot=True,\n",
    "    cmap=\"coolwarm\",\n",
    "    fmt=\".4g\",\n",
    "    cbar_kws={\"label\": \"difference\"},\n",
    ")\n",
    "\n",
    "print(f\"Figure | {name1.upper()}과 {name2.upper()}의 얼굴 검증 데이터셋 정확도 차이 비교\")\n",
    "\n",
    "\n",
    "# 타이틀과 라벨을 설정합니다.\n",
    "plt.title(f\"{name1.upper()}과 {name2.upper()}의 얼굴 검증 데이터셋 정확도 차이 비교\", fontsize=13)\n",
    "plt.xlabel(\"모델간 정확도 차이\", fontsize=10)\n",
    "plt.ylabel(\"얼굴 검증 데이터셋\", fontsize=10)\n",
    "\n",
    "\n",
    "# 그래프를 출력합니다.\n",
    "plt.show()"
   ]
  },
  {
   "cell_type": "code",
   "execution_count": null,
   "metadata": {},
   "outputs": [],
   "source": [
    "acc_diff_df.groupby(level=0).mean()"
   ]
  },
  {
   "cell_type": "code",
   "execution_count": null,
   "metadata": {},
   "outputs": [],
   "source": [
    "# 컬럼명에서 첫 번째 원소를 추출하여 X축 라벨로 사용합니다.\n",
    "edited_x_label = summary_df.columns.str.rsplit(\"-\", 4).map(lambda x: x[0].upper())\n",
    "\n",
    "# 그림 크기를 설정하고, 히트맵을 생성합니다.\n",
    "fig, ax = plt.subplots(figsize=(10, 8))\n",
    "\n",
    "# 히트맵 생성\n",
    "sns.heatmap(\n",
    "    summary_df,\n",
    "    annot=True,\n",
    "    cmap=\"coolwarm\",\n",
    "    fmt=\".4g\",\n",
    "    cbar_kws={\"label\": \"Accuracy\"},\n",
    "    xticklabels=edited_x_label,\n",
    "    ax=ax,\n",
    ")\n",
    "print(\"Figure | 멀티 태스크 모델별 얼굴 검증 데이터셋 정확도\")\n",
    "\n",
    "# 타이틀과 라벨을 설정합니다.\n",
    "ax.set_title(\"멀티 태스크 모델별 얼굴 검증 데이터셋 정확도\", fontsize=15)\n",
    "ax.set_xlabel(\"얼굴 검증 데이터셋 종류\", fontsize=12)\n",
    "ax.set_ylabel(\"멀티 태스크 모델 종류\", fontsize=12)\n",
    "\n",
    "# x, y 축 라벨의 회전 각도를 설정합니다.\n",
    "plt.xticks(rotation=45)\n",
    "# plt.yticks(rotation=45)\n",
    "\n",
    "# 그래프를 출력합니다.\n",
    "plt.show()\n"
   ]
  },
  {
   "attachments": {},
   "cell_type": "markdown",
   "metadata": {},
   "source": [
    "# Sweep"
   ]
  },
  {
   "attachments": {},
   "cell_type": "markdown",
   "metadata": {},
   "source": [
    "## Single task"
   ]
  },
  {
   "cell_type": "code",
   "execution_count": null,
   "metadata": {},
   "outputs": [],
   "source": [
    "import pandas as pd\n",
    "import wandb\n",
    "\n",
    "api = wandb.Api()\n",
    "\n",
    "# Project is specified by <entity/project-name>\n",
    "runs = api.runs(\"jongphago/single-fr-ver-1\")\n",
    "# runs = api.runs(\"jongphago/dual-frkr-ver-1\")\n",
    "# runs = api.runs(\"jongphago/triple-fraekr-ver-1\")\n",
    "\n",
    "summary_list, config_list, name_list = [], [], []\n",
    "for run in runs:\n",
    "    # .summary contains the output keys/values for metrics like accuracy.\n",
    "    #  We call ._json_dict to omit large files\n",
    "    summary_list.append(run.summary._json_dict)\n",
    "\n",
    "    # .config contains the hyperparameters.\n",
    "    #  We remove special values that start with _.\n",
    "    config_list.append({k: v for k, v in run.config.items() if not k.startswith(\"_\")})\n",
    "\n",
    "    # .name is the human-readable name of the run.\n",
    "    name_list.append(run.name)\n",
    "\n",
    "runs_df = pd.DataFrame(\n",
    "    {\"summary\": summary_list, \"config\": config_list, \"name\": name_list}\n",
    ")\n",
    "\n",
    "runs_df.to_csv(\"project.csv\")\n",
    "# 'summary' 열을 flatten하고, 데이터프레임으로 변환합니다.\n",
    "summary_df = pd.json_normalize(runs_df[\"summary\"])\n",
    "\n",
    "# 'config' 열을 flatten하고, 데이터프레임으로 변환합니다.\n",
    "config_df = pd.json_normalize(runs_df[\"config\"])\n",
    "\n",
    "# 원래 데이터프레임에서 'summary'와 'config' 열을 제거합니다.\n",
    "runs_df = runs_df.drop([\"summary\", \"config\"], axis=1)\n",
    "\n",
    "# flatten된 'summary'와 'config' 데이터프레임을 원래 데이터프레임과 병합합니다.\n",
    "runs_df = pd.concat([runs_df, summary_df, config_df], axis=1)\n",
    "\n",
    "# Rename columns \n",
    "runs_df.columns = runs_df.columns.str.replace(\"/\", \"_\").map(lambda x: x.lower())\n",
    "runs_df['_timestamp'] = pd.to_datetime(runs_df['_timestamp'], unit='s')"
   ]
  },
  {
   "cell_type": "code",
   "execution_count": null,
   "metadata": {},
   "outputs": [],
   "source": [
    "selected = runs_df[runs_df._timestamp <= \"2023-05-31 04:25:28.001810176\"]  # single\n",
    "# selected = runs_df[~(runs_df.valid_accuracy.isnull())]  # dual\n",
    "# selected = runs_df[runs_df._timestamp <= \"2023-06-03 16:00:00.0\"]  # triple\n",
    "selected.shape"
   ]
  },
  {
   "cell_type": "code",
   "execution_count": null,
   "metadata": {},
   "outputs": [],
   "source": [
    "config_columns = config_df.columns"
   ]
  },
  {
   "cell_type": "code",
   "execution_count": null,
   "metadata": {},
   "outputs": [],
   "source": [
    "num_total = len(selected)\n",
    "valid_max = f\"{selected.valid_accuracy.sort_values(ascending=False).iloc[0]:.4f}\"\n",
    "test_max = f\"{selected.test_accuracy.sort_values(ascending=False).iloc[0]:.4f}\"\n",
    "mean, std = (\n",
    "    selected.valid_accuracy.mean(),\n",
    "    selected.valid_accuracy.std(),\n",
    ")  # (0.5874, 0.0955)\n",
    "over_80 = (selected.valid_accuracy >= 0.8).sum()  # 4\n",
    "\n",
    "print(f\"- {num_total}회 실행 하여 최고 검증 정확도 {valid_max} 달성 (테스트 정확도: {test_max})\")\n",
    "print(f\" - 총 {len(runs_df)}번의 시도 중 {num_total}번의 검증 정확도가 기록\")\n",
    "print(f\" - 모델 최적화 과정에서 기록된 검증 정확도의 평균 {mean:.4f}, 표준편차 {std:.4f}\")\n",
    "print(f\" - {num_total}회중 {over_80}번의 시도({over_80/num_total:.4f})가 검증정확도를 0.8이상을 기록\")"
   ]
  },
  {
   "cell_type": "code",
   "execution_count": null,
   "metadata": {},
   "outputs": [],
   "source": [
    "config_name = [\n",
    "    \"network\",\n",
    "    \"embedding_size\",\n",
    "    \"optimizer\",\n",
    "    \"margin_list\",\n",
    "    \"num_epoch\",\n",
    "    \"lr\",\n",
    "    \"weight_decay\",\n",
    "    \"momentum\",\n",
    "    \"dropout\",\n",
    "    \"sample_rate\",\n",
    "    \"face_weight\",\n",
    "    # \"kinship_weight\",\n",
    "    # \"age_weight\",\n",
    "    # \"age_group_weight\",\n",
    "    # \"age_mean_var_weight\",\n",
    "]\n",
    "multi_config_name = pd.MultiIndex.from_tuples(\n",
    "    [\n",
    "        (\"fixed\", \"network\"),\n",
    "        (\"fixed\", \"embedding_size\"),\n",
    "        (\"fixed\", \"optimizer\"),\n",
    "        (\"fixed\", \"margin_list\"),\n",
    "        (\"optimized\", \"num_epoch\"),\n",
    "        (\"optimized\", \"lr\"),\n",
    "        (\"optimized\", \"weight_decay\"),\n",
    "        (\"optimized\", \"momentum\"),\n",
    "        (\"optimized\", \"dropout\"),\n",
    "        (\"optimized\", \"sample_rate\"),\n",
    "        (\"weight(optim)\", \"face_weight\"),\n",
    "        # (\"weight(optim)\", \"kinship_weight\"),\n",
    "        # (\"weight(optim)\", \"age_weight\"),\n",
    "        # (\"weight(optim)\", \"age_group_weight\"),\n",
    "        # (\"weight(optim)\", \"age_mean_var_weight\"),\n",
    "    ]\n",
    ")\n",
    "print(len(config_name))"
   ]
  },
  {
   "cell_type": "code",
   "execution_count": null,
   "metadata": {},
   "outputs": [],
   "source": [
    "max_index = selected.valid_accuracy.argmax()\n",
    "params_df = selected.iloc[max_index][config_name].to_frame(name='value')\n",
    "params_df.index = multi_config_name\n",
    "params_df"
   ]
  },
  {
   "cell_type": "code",
   "execution_count": null,
   "metadata": {},
   "outputs": [],
   "source": [
    "prop_name = \"sample_rate\"\n",
    "selected.loc[:, \"temp\"] = pd.cut(selected[prop_name], bins=10)\n",
    "qdf = selected.groupby(\"temp\").valid_accuracy.mean().to_frame()\n",
    "# 그림 크기를 설정하고, 히트맵을 생성합니다.\n",
    "fig, ax = plt.subplots(figsize=(10, 8))\n",
    "cdf = selected.groupby(\"temp\").valid_accuracy.count().to_frame().T\n",
    "display(cdf)\n",
    "# 히트맵 생성\n",
    "sns.heatmap(\n",
    "    qdf,\n",
    "    annot=True,\n",
    "    cmap=\"coolwarm\",\n",
    "    fmt=\".4g\",\n",
    "    cbar_kws={\"label\": \"Accuracy\"},\n",
    "    ax=ax,\n",
    "    vmin=0.5, vmax=1.0\n",
    ")\n",
    "plt.show()"
   ]
  }
 ],
 "metadata": {
  "kernelspec": {
   "display_name": "face",
   "language": "python",
   "name": "python3"
  },
  "language_info": {
   "codemirror_mode": {
    "name": "ipython",
    "version": 3
   },
   "file_extension": ".py",
   "mimetype": "text/x-python",
   "name": "python",
   "nbconvert_exporter": "python",
   "pygments_lexer": "ipython3",
   "version": "3.7.12"
  },
  "orig_nbformat": 4
 },
 "nbformat": 4,
 "nbformat_minor": 2
}
