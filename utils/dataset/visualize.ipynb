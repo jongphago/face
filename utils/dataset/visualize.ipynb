{
 "cells": [
  {
   "cell_type": "code",
   "execution_count": null,
   "metadata": {},
   "outputs": [],
   "source": [
    "import os\n",
    "import numpy as np\n",
    "import pandas as pd\n",
    "import dataframe_image as dfi\n",
    "from easydict import EasyDict as edict\n",
    "from fpt.data import join_face_df\n",
    "from fpt.split import read_split\n",
    "from fpt.path import DTFR, DATA\n",
    "\n",
    "pd.set_option(\"display.float_format\", \"{:.4f}\".format)"
   ]
  },
  {
   "cell_type": "code",
   "execution_count": null,
   "metadata": {},
   "outputs": [],
   "source": [
    "import matplotlib.font_manager as fm\n",
    "import matplotlib.pyplot as plt\n",
    "import seaborn as sns\n",
    "from matplotlib import rc\n",
    "\n",
    "font_path = \"/usr/share/fonts/NanumFont/NanumGothicBold.ttf\"\n",
    "fontprop = fm.FontProperties(fname=font_path, size=18)\n",
    "\n",
    "# 한글 폰트 설정\n",
    "font_name = fm.FontProperties(\n",
    "    fname=\"/usr/share/fonts/NanumFont/NanumGothicBold.ttf\"\n",
    ").get_name()\n",
    "rc(\"font\", family=font_name)"
   ]
  },
  {
   "cell_type": "code",
   "execution_count": null,
   "metadata": {},
   "outputs": [],
   "source": [
    "# Set global figure background color\n",
    "plt.rcParams[\"figure.facecolor\"] = \"white\"\n",
    "\n",
    "sns.set(style=\"white\")"
   ]
  },
  {
   "cell_type": "code",
   "execution_count": null,
   "metadata": {},
   "outputs": [],
   "source": [
    "from pathlib import Path\n",
    "\n",
    "ROOT = Path(\"/home/jongphago/family-photo-tree\")\n",
    "\n",
    "\n",
    "def savefig(target: str, extension=\".png\"):\n",
    "    if not target.endswith(extension):\n",
    "        target += extension\n",
    "    image_path = ROOT / target\n",
    "    dirname = os.path.dirname(image_path)\n",
    "    if not os.path.exists(dirname):\n",
    "        os.makedirs(dirname)\n",
    "    plt.savefig(image_path, facecolor=\"w\")"
   ]
  },
  {
   "cell_type": "code",
   "execution_count": null,
   "metadata": {},
   "outputs": [],
   "source": [
    "def add_extension(path):\n",
    "    if os.path.exists(path + \".jpg\"):\n",
    "        return path + \".jpg\"\n",
    "    elif os.path.exists(path + \".png\"):\n",
    "        return path + \".png\"\n",
    "    else:\n",
    "        raise RuntimeError('No file \"%s\" with extension png or jpg.' % path)\n",
    "\n",
    "\n",
    "def get_distance_list(distance_path):\n",
    "    with open(distance_path, \"r\") as f:\n",
    "        l = f.readline().rstrip()\n",
    "        best_distance = float(l.split(\", \")[1])\n",
    "        lines = f.readlines()\n",
    "        distances = [float(l.rstrip()) for l in lines]\n",
    "        assert len(distances) == 6000\n",
    "    return distances, best_distance\n",
    "\n",
    "\n",
    "def get_lr(df, prop_name, is_sort=False):\n",
    "    new = df[[f\"{prop_name}_left\", f\"{prop_name}_right\", \"distance\", \"correct\"]].copy()\n",
    "    \n",
    "    if is_sort:\n",
    "        sorted_lr = pd.DataFrame(\n",
    "            np.sort(new[[f\"{prop_name}_left\", f\"{prop_name}_right\"]]),\n",
    "            columns=[f\"{prop_name}_left\", f\"{prop_name}_right\"],\n",
    "        )\n",
    "        new.update(sorted_lr)\n",
    "\n",
    "    # apply sorted function on total_list\n",
    "    new[\"total_list\"] = df[[f\"{prop_name}_left\", f\"{prop_name}_right\"]].apply(\n",
    "        lambda x: sorted(x), axis=1\n",
    "    )\n",
    "\n",
    "    new[\"total\"] = new[\"total_list\"].apply(lambda x: \", \".join(map(str, x)))\n",
    "\n",
    "    # set property\n",
    "    best_distance = df.best_distance\n",
    "    pair_name = df.pair_name\n",
    "    checkpoint = df.checkpoint\n",
    "    model_type = df.model_type\n",
    "    setattr(new, \"pair_name\", pair_name)\n",
    "    setattr(new, \"checkpoint\", checkpoint)\n",
    "    setattr(new, \"model_type\", model_type)\n",
    "    setattr(new, \"best_distance\", best_distance)\n",
    "    return new\n",
    "\n",
    "\n",
    "def makedirs(table_name):\n",
    "    root = \"/home/jupyter/family-photo-tree/utils/dataset\"\n",
    "    dir_name = os.path.dirname(table_name)\n",
    "    export_dir = os.path.join(root, dir_name)\n",
    "    os.makedirs(export_dir, exist_ok=True)"
   ]
  },
  {
   "cell_type": "code",
   "execution_count": null,
   "metadata": {},
   "outputs": [],
   "source": [
    "# face dataframe\n",
    "face = join_face_df(DTFR, \"aihub_family\")\n",
    "face[\"personal_id\"] = face[\"personal_id\"].str.replace(\"\\d+\", \"\", regex=True)\n",
    "valid_uuids = read_split(\"test\")\n",
    "\n",
    "x_test = face.loc[valid_uuids]\n",
    "x_test = x_test[x_test.age_group != \"above\"]\n",
    "x_test = x_test.reset_index().reset_index().set_index(\"uuid\")"
   ]
  },
  {
   "cell_type": "code",
   "execution_count": null,
   "metadata": {},
   "outputs": [],
   "source": [
    "def get_df(pair_name, model_type, checkpoint, x_test=x_test):\n",
    "    def get_path(pair_name, model_type, checkpoint):\n",
    "        distance_path = DATA / f\"distance/{model_type}/{checkpoint}/{pair_name}.txt\"\n",
    "        pairs_path = f\"pairs/test/pairs_{pair_name}.txt\"\n",
    "        return distance_path, pairs_path\n",
    "\n",
    "    # get path\n",
    "    distance_path, pairs_path = get_path(pair_name, model_type, checkpoint)\n",
    "\n",
    "    # Distance array\n",
    "    distances, best_distance = get_distance_list(distance_path)\n",
    "    distances = np.array([distances, np.array(distances) > best_distance], dtype=int).T\n",
    "\n",
    "    # pairs data path\n",
    "    os.makedirs(os.path.dirname(pairs_path), exist_ok=True)\n",
    "    aihub_dir = DATA / \"face-image/test_aihub_family\"\n",
    "\n",
    "    # pairs df (6000, 6)\n",
    "    pairs = []\n",
    "    is_sames = []\n",
    "    with open(pairs_path, \"r\") as f:\n",
    "        for line in f.readlines()[1:]:\n",
    "            pair = line.strip().split()\n",
    "            is_sames.append(True if len(pair) == 3 else False)\n",
    "            if len(pair) == 3:\n",
    "                target = pair[0]\n",
    "                pair.insert(2, target)\n",
    "            pairs.append(pair)\n",
    "\n",
    "    pairs = np.array(pairs, dtype=object)\n",
    "    is_sames = np.array(is_sames, dtype=np.int64)[:, np.newaxis]\n",
    "    columns = [\"issame\", \"ltarget\", \"luuid\", \"rtarget\", \"ruuid\", \"distance\", \"correct\"]\n",
    "    pairs_df = pd.DataFrame(\n",
    "        np.hstack((is_sames, pairs, distances)),\n",
    "        columns=columns,\n",
    "    )  # (6000, 6)\n",
    "\n",
    "    # path_df\n",
    "    nrof_skipped_pairs = 0\n",
    "    path_list = []\n",
    "    issame_list = []\n",
    "    for pair in pairs:\n",
    "        if len(pair) == 3:\n",
    "            path0 = add_extension(os.path.join(aihub_dir, pair[0], pair[1]))\n",
    "            path1 = add_extension(os.path.join(aihub_dir, pair[0], pair[2]))\n",
    "            issame = True\n",
    "        elif len(pair) == 4:\n",
    "            path0 = add_extension(os.path.join(aihub_dir, pair[0], pair[1]))\n",
    "            path1 = add_extension(os.path.join(aihub_dir, pair[2], pair[3]))\n",
    "            issame = False\n",
    "        if os.path.exists(path0) and os.path.exists(\n",
    "            path1\n",
    "        ):  # Only add the pair if both paths exist\n",
    "            path_list.append((path0, path1, issame))\n",
    "            issame_list.append(issame)\n",
    "        else:\n",
    "            nrof_skipped_pairs += 1\n",
    "\n",
    "    if nrof_skipped_pairs > 0:\n",
    "        print(\"Skipped %d image pairs\" % nrof_skipped_pairs)\n",
    "\n",
    "    path_df = pd.DataFrame(\n",
    "        path_list,\n",
    "        columns=(\"image_left\", \"image_right\", \"issame\"),\n",
    "    )  # (6000, 3)\n",
    "\n",
    "    # df\n",
    "    temp_x_test = x_test.reset_index().set_index(\"index\")  # (8147, 15)\n",
    "    temp_merged = pd.merge(\n",
    "        pairs_df,\n",
    "        temp_x_test,\n",
    "        left_on=\"luuid\",\n",
    "        right_on=\"uuid\",\n",
    "    )\n",
    "    df = pd.merge(\n",
    "        temp_merged,\n",
    "        temp_x_test,\n",
    "        left_on=\"ruuid\",\n",
    "        right_on=\"uuid\",\n",
    "        suffixes=[\"_left\", \"_right\"],\n",
    "    )\n",
    "\n",
    "    df.correct = np.where(\n",
    "        df.issame.to_numpy().astype(bool),\n",
    "        np.array(df.distance) <= best_distance,\n",
    "        np.array(df.distance) > best_distance,\n",
    "    )\n",
    "\n",
    "    # set property\n",
    "    setattr(df, \"pair_name\", pair_name)\n",
    "    setattr(df, \"checkpoint\", checkpoint)\n",
    "    setattr(df, \"model_type\", model_type)\n",
    "    setattr(df, \"best_distance\", best_distance)\n",
    "\n",
    "    return df"
   ]
  },
  {
   "cell_type": "code",
   "execution_count": null,
   "metadata": {},
   "outputs": [],
   "source": [
    "def grouped_ratio(lr, prop_name):\n",
    "    grouped = lr.groupby(\"total\").count().total_list.to_frame() / len(lr)\n",
    "    grouped.columns = [f\"{prop_name}_pair_ratio\"]\n",
    "    setattr(grouped, \"prop_name\", prop_name)\n",
    "    return grouped"
   ]
  },
  {
   "cell_type": "code",
   "execution_count": null,
   "metadata": {},
   "outputs": [],
   "source": [
    "# capture dataframe\n",
    "def capture_df(grouped, pair_name, prop_name):\n",
    "    grouped_shape = '{}x{}'.format(*grouped.shape)\n",
    "    image_path = f\"export/{pair_name}/{prop_name}/lr-{prop_name}_pair_ratio-{grouped_shape}.png\"\n",
    "    makedirs(image_path)\n",
    "    dfi.export(grouped, image_path, table_conversion=\"matplotlib\")\n",
    "    print(image_path)"
   ]
  },
  {
   "cell_type": "code",
   "execution_count": null,
   "metadata": {},
   "outputs": [],
   "source": [
    "# model_type, checkpoint = \"single-fr-ver-1\", \"230529_0140\"\n",
    "# model_type, checkpoint = \"dual-frkr-ver-1\", \"230602_2021\"\n",
    "model_type, checkpoint = \"triple-fraekr-ver-1\", \"230601_1838\"\n",
    "pair_names = [\n",
    "    \"BASIC-G\", \"BASIC-GC\",\n",
    "    \"BASIC-A\", \"BASIC-AC\",\n",
    "    \"BASIC-F\", \"BASIC-FC\",\n",
    "    \"FAMILY-A\", \"FAMILY-CA\",\n",
    "    \"FAMILY-G\", \"FAMILY-CG\",\n",
    "    \"FAMILY-AG\", \"FAMILY-CAG\",\n",
    "    \"BASIC-FN\",\n",
    "    \"PERSONAL-A\", \"PERSONAL-AC\",\n",
    "]"
   ]
  },
  {
   "cell_type": "code",
   "execution_count": null,
   "metadata": {},
   "outputs": [],
   "source": [
    "model_types = [\n",
    "    \"single-fr-ver-1\",\n",
    "    \"dual-frkr-ver-1\",\n",
    "    \"triple-fraekr-ver-1\",\n",
    "]\n",
    "checkpoints = [\n",
    "    \"230529_0140\",\n",
    "    \"230602_2021\",\n",
    "    \"230601_1838\",\n",
    "]"
   ]
  },
  {
   "cell_type": "code",
   "execution_count": null,
   "metadata": {},
   "outputs": [],
   "source": [
    "master = edict()\n",
    "for model_type, checkpoint in zip(model_types, checkpoints):\n",
    "    task = model_type.rsplit(\"-\")[0]\n",
    "    df_dict = edict(\n",
    "        {\n",
    "            pair_name.replace(\"-\", \"\").lower(): get_df(\n",
    "                pair_name, model_type, checkpoint\n",
    "            )\n",
    "            for pair_name in pair_names\n",
    "        }\n",
    "    )\n",
    "    master[task] = df_dict"
   ]
  },
  {
   "cell_type": "code",
   "execution_count": null,
   "metadata": {},
   "outputs": [],
   "source": [
    "df_dict = edict(\n",
    "    {\n",
    "        pair_name.replace(\"-\", \"\").lower(): get_df(pair_name, model_type, checkpoint)\n",
    "        for pair_name in pair_names\n",
    "    }\n",
    ")"
   ]
  },
  {
   "cell_type": "code",
   "execution_count": null,
   "metadata": {},
   "outputs": [],
   "source": [
    "prop_name_dict = edict({\n",
    "    'gender':'성별',\n",
    "    'age_group': '나이 그룹',\n",
    "    'age': '나이',\n",
    "    'category': '이미지 카테고리'\n",
    "})"
   ]
  },
  {
   "cell_type": "code",
   "execution_count": null,
   "metadata": {},
   "outputs": [],
   "source": [
    "df_dict = master.triple\n",
    "# pair_list = [df_dict.basicg, df_dict.basicgc]\n",
    "# pair_list = [df_dict.basica, df_dict.basicac]\n",
    "# pair_list = [df_dict.basicf, df_dict.basicfc]\n",
    "# pair_list = [df_dict.familya, df_dict.familyca]\n",
    "# pair_list = [df_dict.familyg, df_dict.familycg]\n",
    "# pair_list = [df_dict.familyag, df_dict.familycag]\n",
    "# pair_list = [df_dict.personala, df_dict.personalac]\n",
    "\n",
    "# pair_list = [master.single.basicg, master.dual.basicg, master.triple.basicg]\n",
    "pair_list = [master.single.personalac, master.dual.personalac, master.triple.personalac]\n",
    "\n",
    "# task = sub_task.model_type.rsplit('-')[0].upper()\n",
    "print(f'[PAIRS]\\t{\", \".join([f\"{pair.model_type[:4]}-{pair.pair_name}\" for pair in pair_list])}')"
   ]
  },
  {
   "cell_type": "markdown",
   "metadata": {},
   "source": [
    "## EDA"
   ]
  },
  {
   "cell_type": "markdown",
   "metadata": {},
   "source": [
    "### Ratio table"
   ]
  },
  {
   "cell_type": "markdown",
   "metadata": {},
   "source": [
    "#### gender"
   ]
  },
  {
   "cell_type": "code",
   "execution_count": null,
   "metadata": {},
   "outputs": [],
   "source": [
    "def draw_data_ratio_table(prop_name, pair_list):\n",
    "    kor_prop_name = prop_name_dict[prop_name]\n",
    "    result = []\n",
    "    a = x_test.groupby(prop_name).count().label / len(x_test)\n",
    "    setattr(a, \"name\", \"x_test\")\n",
    "    result.append(a)\n",
    "    pair_name_list = []\n",
    "    for sub_task in pair_list:\n",
    "        lr = get_lr(sub_task, prop_name)\n",
    "        for d in [\"left\", \"right\"]:\n",
    "            b = lr.groupby(f\"{prop_name}_{d}\").count().total / len(lr)\n",
    "            setattr(b, \"name\", f\"{sub_task.model_type.split('-')[0].upper()}-{sub_task.pair_name}-{d}\")\n",
    "            result.append(b)\n",
    "        pair_name_list.append(sub_task.pair_name)\n",
    "    print(f'Table | {\"와 \".join(pair_name_list)}의 {kor_prop_name} 데이터 구성 비율')\n",
    "    return pd.DataFrame(result, index=[r.name for r in result])"
   ]
  },
  {
   "cell_type": "code",
   "execution_count": null,
   "metadata": {},
   "outputs": [],
   "source": [
    "prop_name = 'gender'\n",
    "draw_data_ratio_table(prop_name, pair_list)"
   ]
  },
  {
   "cell_type": "markdown",
   "metadata": {},
   "source": [
    "#### age_group"
   ]
  },
  {
   "cell_type": "code",
   "execution_count": null,
   "metadata": {},
   "outputs": [],
   "source": [
    "prop_name = 'age_group'\n",
    "draw_data_ratio_table(prop_name, pair_list)"
   ]
  },
  {
   "cell_type": "markdown",
   "metadata": {},
   "source": [
    "#### category"
   ]
  },
  {
   "cell_type": "code",
   "execution_count": null,
   "metadata": {},
   "outputs": [],
   "source": [
    "prop_name = 'category'\n",
    "draw_data_ratio_table(prop_name, pair_list)"
   ]
  },
  {
   "cell_type": "markdown",
   "metadata": {},
   "source": [
    "### Heatmap"
   ]
  },
  {
   "cell_type": "code",
   "execution_count": null,
   "metadata": {},
   "outputs": [],
   "source": [
    "from matplotlib import font_manager\n",
    "import matplotlib.pyplot as plt\n",
    "import seaborn as sns"
   ]
  },
  {
   "cell_type": "code",
   "execution_count": null,
   "metadata": {},
   "outputs": [],
   "source": [
    "def draw_pair_ratio_heatmap(prop_name, pair_list):\n",
    "    kor_prop_name = prop_name_dict[prop_name]\n",
    "\n",
    "    # 한글 폰트 설정\n",
    "    font_name = font_manager.FontProperties(\n",
    "        fname=\"/usr/share/fonts/NanumFont/NanumGothicBold.ttf\"\n",
    "    ).get_name()\n",
    "    plt.rc(\"font\", family=font_name)\n",
    "\n",
    "    fig, axs = plt.subplots(nrows=1, ncols=len(pair_list), figsize=(10*len(pair_list), 8))\n",
    "\n",
    "    # Compute the global min and max to use for all heatmaps\n",
    "    vmin = float(\"inf\")\n",
    "    vmax = float(\"-inf\")\n",
    "\n",
    "    for sub_task in pair_list:\n",
    "        lr = get_lr(sub_task, prop_name, is_sort=True)\n",
    "        heatmap_data = lr.groupby(\n",
    "            [f\"{prop_name}_left\", f\"{prop_name}_right\"]\n",
    "        ).count().correct / len(lr)\n",
    "        vmin = min(vmin, heatmap_data.min())\n",
    "        vmax = max(vmax, heatmap_data.max())\n",
    "\n",
    "    pair_name_list = []\n",
    "    copied = None\n",
    "    for i, sub_task in enumerate(pair_list):\n",
    "        lr = get_lr(sub_task, prop_name, is_sort=True)\n",
    "\n",
    "        # DataFrame을 pivot 형태로 변환\n",
    "        heatmap_data = lr.groupby(\n",
    "            [f\"{prop_name}_left\", f\"{prop_name}_right\"]\n",
    "        ).count().correct / len(lr)\n",
    "        heatmap_data = heatmap_data.reset_index()\n",
    "        heatmap_data = heatmap_data.pivot(\n",
    "            f\"{prop_name}_left\", f\"{prop_name}_right\", \"correct\"\n",
    "        )\n",
    "        if copied is None:\n",
    "            copied = heatmap_data.copy()\n",
    "            first_copied = copied.copy()\n",
    "        else:\n",
    "            display(copied - heatmap_data)\n",
    "            copied = heatmap_data.copy()\n",
    "\n",
    "        # heatmap 그리기\n",
    "        sns.heatmap(\n",
    "            heatmap_data,\n",
    "            cmap=\"YlGnBu\",\n",
    "            annot=True,\n",
    "            fmt=\".2f\",\n",
    "            ax=axs[i],\n",
    "            vmin=vmin,\n",
    "            vmax=vmax,\n",
    "        )\n",
    "\n",
    "        # x, y 축 라벨 및 타이틀 설정\n",
    "        axs[i].set_title(f\"[{lr.pair_name}] {kor_prop_name} 쌍 비율\", fontsize=14)\n",
    "        axs[i].set_xlabel(f\"오른쪽 {kor_prop_name}\", fontsize=12)\n",
    "        axs[i].set_ylabel(f\"왼쪽 {kor_prop_name}\", fontsize=12)\n",
    "\n",
    "        m = heatmap_data.stack().mean()\n",
    "        d = heatmap_data.stack().std()\n",
    "        print(f\"평균 {m:.4f}, 표준편차 {d:.4f}\")\n",
    "        pair_name_list.append(sub_task.pair_name)\n",
    "    \n",
    "    display(copied - first_copied)\n",
    "    print(f'Figure | {\"와 \".join(pair_name_list)}의 {kor_prop_name} 데이터 쌍 비율')\n",
    "\n",
    "    plt.tight_layout()\n",
    "    plt.show()\n",
    "\n",
    "def draw_instance_ratio_heatmap(prop_name, pair_list):\n",
    "    kor_prop_name = prop_name_dict[prop_name]\n",
    "\n",
    "    # 한글 폰트 설정\n",
    "    font_name = font_manager.FontProperties(\n",
    "        fname=\"/usr/share/fonts/NanumFont/NanumGothicBold.ttf\"\n",
    "    ).get_name()\n",
    "    plt.rc(\"font\", family=font_name)\n",
    "\n",
    "    result = []\n",
    "    a = x_test.groupby(prop_name).count().label / len(x_test)\n",
    "    setattr(a, \"name\", \"x_test\")\n",
    "    result.append(a)\n",
    "\n",
    "    pair_name_list = []\n",
    "    for sub_task in pair_list:\n",
    "        lr = get_lr(sub_task, prop_name)\n",
    "        for d in [\"left\", \"right\"]:\n",
    "            b = lr.groupby(f\"{prop_name}_{d}\").count().total / len(lr)\n",
    "            setattr(b, \"name\", f\"{sub_task.model_type.split('-')[0].upper()}-{sub_task.pair_name}-{d}\")\n",
    "            result.append(b)\n",
    "            m, d = b.mean(), b.std()\n",
    "            print(f\"평균 {m:.4f}, 표준편차 {d:.4f}\")\n",
    "        pair_name_list.append(sub_task.pair_name)\n",
    "    print(f'Figure | {\"와 \".join(pair_name_list)}의 {kor_prop_name} 비율 히트맵')\n",
    "\n",
    "    out = pd.DataFrame(result, index=[r.name for r in result])  # (5, 8)\n",
    "\n",
    "    # seaborn heatmap 사용\n",
    "    plt.figure(figsize=(10, 5))\n",
    "    sns.heatmap(\n",
    "        out,\n",
    "        annot=True,\n",
    "        cmap=\"YlGnBu\",\n",
    "        fmt=\".3g\",\n",
    "        linewidths=0.5,\n",
    "        cbar_kws={\"shrink\": 0.5},\n",
    "    )\n",
    "\n",
    "    # Setting labels and title\n",
    "    title = f\"[{','.join(pair_name_list)}] {kor_prop_name} 비율 히트맵\"\n",
    "    plt.title(title, fontsize=16)\n",
    "    plt.xlabel(f\"{kor_prop_name}\", fontsize=14)\n",
    "    plt.ylabel(\"데이터셋\", fontsize=14)\n",
    "    plt.tick_params(axis=\"y\", rotation=0)\n",
    "\n",
    "    plt.show()"
   ]
  },
  {
   "cell_type": "markdown",
   "metadata": {},
   "source": [
    "#### Gender"
   ]
  },
  {
   "cell_type": "code",
   "execution_count": null,
   "metadata": {},
   "outputs": [],
   "source": [
    "prop_name = \"gender\"\n",
    "draw_instance_ratio_heatmap(prop_name, pair_list)"
   ]
  },
  {
   "cell_type": "code",
   "execution_count": null,
   "metadata": {},
   "outputs": [],
   "source": [
    "prop_name = \"gender\"\n",
    "draw_pair_ratio_heatmap(prop_name, pair_list)"
   ]
  },
  {
   "cell_type": "markdown",
   "metadata": {},
   "source": [
    "#### age_group"
   ]
  },
  {
   "cell_type": "code",
   "execution_count": null,
   "metadata": {},
   "outputs": [],
   "source": [
    "prop_name = \"age_group\"\n",
    "draw_instance_ratio_heatmap(prop_name, pair_list)"
   ]
  },
  {
   "cell_type": "code",
   "execution_count": null,
   "metadata": {},
   "outputs": [],
   "source": [
    "prop_name = \"age_group\"\n",
    "draw_pair_ratio_heatmap(prop_name, pair_list)"
   ]
  },
  {
   "cell_type": "markdown",
   "metadata": {},
   "source": [
    "#### Cateogry"
   ]
  },
  {
   "cell_type": "code",
   "execution_count": null,
   "metadata": {},
   "outputs": [],
   "source": [
    "prop_name = \"category\"\n",
    "draw_instance_ratio_heatmap(prop_name, pair_list)"
   ]
  },
  {
   "cell_type": "code",
   "execution_count": null,
   "metadata": {},
   "outputs": [],
   "source": [
    "prop_name = \"category\"\n",
    "draw_pair_ratio_heatmap(prop_name, pair_list)"
   ]
  },
  {
   "cell_type": "markdown",
   "metadata": {},
   "source": [
    "### KDE"
   ]
  },
  {
   "cell_type": "markdown",
   "metadata": {},
   "source": [
    "#### Age diff"
   ]
  },
  {
   "cell_type": "code",
   "execution_count": null,
   "metadata": {},
   "outputs": [],
   "source": [
    "def draw_age_diff_kde(pair_list):\n",
    "    # 한글 폰트 설정\n",
    "    font_name = font_manager.FontProperties(fname=\"/usr/share/fonts/NanumFont/NanumGothicBold.ttf\").get_name()\n",
    "    plt.rc(\"font\", family=font_name)\n",
    "\n",
    "    sns.set(style=\"whitegrid\")  # setting seaborn style\n",
    "    plt.figure(figsize=(20, 6))  # specifying figure size\n",
    "\n",
    "    # Plotting KDE\n",
    "    plt.subplot(1, 2, 1)  # subplot to plot two graphs side by side\n",
    "\n",
    "    pair_name_list = []\n",
    "    for sub_task in pair_list:\n",
    "        sub_frame = abs(sub_task.age_left - sub_task.age_right)\n",
    "        pair_name_list.append(sub_task.pair_name)\n",
    "        sns.kdeplot(sub_frame, label=sub_task.pair_name, fill=True, alpha=0.1, cut=0)\n",
    "\n",
    "    plt.xlabel(\"나이 그룹 평균 나이 차이(절대값)\", fontsize=14, fontproperties=fontprop)\n",
    "    plt.ylabel(\"밀도\", fontsize=14, fontproperties=fontprop)\n",
    "    plt.xlim(0)\n",
    "    plt.title(f\"[{','.join(pair_name_list)}] 나이 그룹 평균 나이 차이에 대한 커널 밀도 추정\", fontsize=16, fontproperties=fontprop)\n",
    "    plt.legend(title=\"pair_name\", title_fontsize=\"13\", fontsize=12)\n",
    "\n",
    "    # Plotting Cumulative KDE\n",
    "    plt.subplot(1, 2, 2)  # subplot to plot two graphs side by side\n",
    "\n",
    "    for sub_task in pair_list:\n",
    "        sub_frame = abs(sub_task.age_left - sub_task.age_right)\n",
    "        sns.kdeplot(sub_frame, cumulative=True, label=sub_task.pair_name, fill=True, alpha=0.1, cut=3)\n",
    "\n",
    "    plt.xlabel(\"나이 또는 나이 그룹의 평균 나이 차이(절대값)\", fontsize=14, fontproperties=fontprop)\n",
    "    plt.ylabel(\"누적 밀도\", fontsize=14, fontproperties=fontprop)\n",
    "    plt.xlim(0)\n",
    "    plt.title(f\"[{','.join(pair_name_list)}] 나이 또는 나이 그룹 평균 나이 차이에 대한 누적 커널 밀도 추정\", fontsize=16, fontproperties=fontprop)\n",
    "    plt.legend(title=\"pair_name\", title_fontsize=\"13\", fontsize=12)\n",
    "\n",
    "    print(f\"Figure | {'와 '.join(pair_name_list)}의 나이 또는 나이 그룹 평균 나이 차이에 대한 누적 커널 밀도 추정\")\n",
    "    # Removing top and right borders\n",
    "    sns.despine()\n",
    "\n",
    "    plt.tight_layout()  # for better layout\n",
    "    plt.show()"
   ]
  },
  {
   "cell_type": "code",
   "execution_count": null,
   "metadata": {},
   "outputs": [],
   "source": [
    "draw_age_diff_kde(pair_list)"
   ]
  },
  {
   "cell_type": "markdown",
   "metadata": {},
   "source": [
    "## Metric"
   ]
  },
  {
   "cell_type": "markdown",
   "metadata": {},
   "source": [
    "### Accuracy table"
   ]
  },
  {
   "cell_type": "code",
   "execution_count": null,
   "metadata": {},
   "outputs": [],
   "source": [
    "def draw_accuracy_table(prop_name, pair_list):\n",
    "    kor_prop_name = prop_name_dict[prop_name]\n",
    "    pair_name_list = []\n",
    "    dfs = []  # out DataFrame들을 담을 리스트를 생성합니다.\n",
    "    for sub_task in pair_list:\n",
    "        lr = get_lr(sub_task, prop_name)\n",
    "        out = lr.groupby('total')[['correct', 'distance']].mean()\n",
    "        out['pair_name'] = sub_task.pair_name\n",
    "        dfs.append(out)  # 리스트에 DataFrame을 추가합니다.\n",
    "        pair_name_list.append(sub_task.pair_name)\n",
    "    print(f'Table | {\"와 \".join(pair_name_list)}의 {kor_prop_name} 정확도')\n",
    "    \n",
    "    # 리스트의 모든 DataFrame들을 합칩니다.\n",
    "    final_df = pd.concat(dfs)  \n",
    "\n",
    "    # 통계 행을 생성합니다.\n",
    "    temp_total = final_df.groupby(\"pair_name\").mean()\n",
    "    temp_total[\"total\"] = \"total\"\n",
    "\n",
    "    # print(f\"정확도의 차이: {abs(np.subtract(*[i for i in temp_total.correct])):.4f}\")\n",
    "\n",
    "    # final_df와 통계행을 합칩니다.\n",
    "    return pd.concat([final_df.reset_index(), temp_total.reset_index()]).groupby(\n",
    "        [\"pair_name\", \"total\"]\n",
    "    ).sum()"
   ]
  },
  {
   "cell_type": "markdown",
   "metadata": {},
   "source": [
    "#### Gender"
   ]
  },
  {
   "cell_type": "code",
   "execution_count": null,
   "metadata": {},
   "outputs": [],
   "source": [
    "prop_name = \"gender\"\n",
    "\n",
    "out = draw_accuracy_table(prop_name, pair_list)\n",
    "pairs_list, accs_list = [], []\n",
    "for index, row in out.groupby(\"pair_name\"):\n",
    "    pairs_list.append(index)\n",
    "    accs_list.append(row.loc[(index, \"total\")].correct)\n",
    "for _p, _a in zip(pairs_list, accs_list):\n",
    "    print(f\"{_p}({_a:.4f})\", end=\" \")\n",
    "# print(f\"보다 검증 정확도가 {np.subtract(*accs_list):.4f} 낮게 나타났다.\")\n",
    "\n",
    "out"
   ]
  },
  {
   "cell_type": "markdown",
   "metadata": {},
   "source": [
    "#### Age_group"
   ]
  },
  {
   "cell_type": "code",
   "execution_count": null,
   "metadata": {},
   "outputs": [],
   "source": [
    "prop_name = \"age_group\"\n",
    "draw_accuracy_table(prop_name, pair_list).sort_values('correct').iloc[:10]"
   ]
  },
  {
   "cell_type": "markdown",
   "metadata": {},
   "source": [
    "#### Category"
   ]
  },
  {
   "cell_type": "code",
   "execution_count": null,
   "metadata": {},
   "outputs": [],
   "source": [
    "prop_name = \"category\"\n",
    "draw_accuracy_table(prop_name, pair_list)"
   ]
  },
  {
   "cell_type": "markdown",
   "metadata": {},
   "source": [
    "### Heatmap"
   ]
  },
  {
   "cell_type": "markdown",
   "metadata": {},
   "source": [
    "#### Gender"
   ]
  },
  {
   "cell_type": "code",
   "execution_count": null,
   "metadata": {},
   "outputs": [],
   "source": [
    "def draw_metric_heatmap(prop_name, pair_list):\n",
    "    kor_prop_name = prop_name_dict[prop_name]\n",
    "\n",
    "    # 한글 폰트 설정\n",
    "    font_name = font_manager.FontProperties(fname=\"/usr/share/fonts/NanumFont/NanumGothicBold.ttf\").get_name()\n",
    "    plt.rc(\"font\", family=font_name)\n",
    "\n",
    "    fig, axs = plt.subplots(nrows=1, ncols=len(pair_list), figsize=(10*len(pair_list), 8))\n",
    "\n",
    "    # Compute the global min and max to use for all heatmaps\n",
    "    vmin = float('inf')\n",
    "    vmax = float('-inf')\n",
    "\n",
    "    for sub_task in pair_list:\n",
    "        lr = get_lr(sub_task, prop_name, True)\n",
    "        heatmap_data = (\n",
    "            lr.groupby([f\"{prop_name}_left\", f\"{prop_name}_right\"]).sum().correct\n",
    "            / lr.groupby([f\"{prop_name}_left\", f\"{prop_name}_right\"]).count().correct\n",
    "        )\n",
    "        vmin = min(vmin, heatmap_data.min())\n",
    "        vmax = max(vmax, heatmap_data.max())\n",
    "\n",
    "    pair_name_list = []\n",
    "    copied = None\n",
    "    for i, sub_task in enumerate(pair_list):\n",
    "        lr = get_lr(sub_task, prop_name, True)\n",
    "\n",
    "        # DataFrame을 pivot 형태로 변환\n",
    "        heatmap_data = (\n",
    "            lr.groupby([f\"{prop_name}_left\", f\"{prop_name}_right\"]).sum().correct\n",
    "            / lr.groupby([f\"{prop_name}_left\", f\"{prop_name}_right\"]).count().correct\n",
    "        )\n",
    "        heatmap_data = heatmap_data.reset_index()\n",
    "        heatmap_data = heatmap_data.pivot(f\"{prop_name}_left\", f\"{prop_name}_right\", \"correct\")\n",
    "        if copied is None:\n",
    "            copied = heatmap_data.copy()\n",
    "            first_copied = copied.copy()\n",
    "        else:\n",
    "            display(copied - heatmap_data)\n",
    "            copied = heatmap_data.copy()\n",
    "            \n",
    "        # heatmap 그리기\n",
    "        sns.heatmap(heatmap_data, cmap=\"coolwarm\", annot=True, fmt=\".2f\", ax=axs[i], vmin=vmin, vmax=vmax)\n",
    "        # x, y 축 라벨 및 타이틀 설정\n",
    "        axs[i].set_title(f\"[{lr.model_type.split('-')[0].upper()} | {lr.pair_name}] {kor_prop_name}간 검증 정확도\", fontsize=14)\n",
    "        axs[i].set_xlabel(f\"오른쪽 {kor_prop_name}\", fontsize=12)\n",
    "        axs[i].set_ylabel(f\"왼쪽 {kor_prop_name}\", fontsize=12)\n",
    "        \n",
    "        pair_name_list.append(f\"{sub_task.model_type.split('-')[0].upper()}-{sub_task.pair_name}\")\n",
    "    display(copied - first_copied)\n",
    "    print(f'Figure | {\"와 \".join(pair_name_list)}의 {kor_prop_name} 검증 정확도')\n",
    "\n",
    "    plt.tight_layout()\n",
    "    plt.show()"
   ]
  },
  {
   "cell_type": "code",
   "execution_count": null,
   "metadata": {},
   "outputs": [],
   "source": [
    "prop_name = \"gender\"\n",
    "draw_metric_heatmap(prop_name, pair_list)"
   ]
  },
  {
   "cell_type": "markdown",
   "metadata": {},
   "source": [
    "#### Age group"
   ]
  },
  {
   "cell_type": "code",
   "execution_count": null,
   "metadata": {},
   "outputs": [],
   "source": [
    "prop_name = \"age_group\"\n",
    "draw_metric_heatmap(prop_name, pair_list)"
   ]
  },
  {
   "cell_type": "markdown",
   "metadata": {},
   "source": [
    "#### Category"
   ]
  },
  {
   "cell_type": "code",
   "execution_count": null,
   "metadata": {},
   "outputs": [],
   "source": [
    "prop_name = \"category\"\n",
    "draw_metric_heatmap(prop_name, pair_list)"
   ]
  },
  {
   "cell_type": "code",
   "execution_count": null,
   "metadata": {},
   "outputs": [],
   "source": [
    "from matplotlib import font_manager\n",
    "import matplotlib.pyplot as plt\n",
    "import seaborn as sns"
   ]
  },
  {
   "cell_type": "code",
   "execution_count": null,
   "metadata": {},
   "outputs": [],
   "source": [
    "def draw_metric_kde(prop_name, pair_list):\n",
    "    kor_prop_name = prop_name_dict[prop_name]\n",
    "\n",
    "    # 한글 폰트 설정\n",
    "    font_name = font_manager.FontProperties(fname=\"/usr/share/fonts/NanumFont/NanumGothicBold.ttf\").get_name()\n",
    "    plt.rc(\"font\", family=font_name)\n",
    "\n",
    "    sns.set(style=\"whitegrid\")  # setting seaborn style\n",
    "    plt.figure(figsize=(20, 6))  # specifying figure size\n",
    "\n",
    "    for index, sub_task in enumerate(pair_list):\n",
    "        # Subplot 1 for lr1\n",
    "        plt.subplot(1, len(pair_list), index+1)\n",
    "        pair_name_list = []\n",
    "        # sub_task = pair_list[0]  # Change this to choose the task\n",
    "        lr = get_lr(sub_task, prop_name)\n",
    "        pair_name_list.append(sub_task.pair_name)    \n",
    "        for tag in lr.total.unique():\n",
    "            sub_frame = lr[lr.total == tag].distance - lr.best_distance\n",
    "            sns.kdeplot(sub_frame, label=tag, fill=True, alpha=0.1)\n",
    "\n",
    "        task = sub_task.model_type.rsplit('-')[0].upper()\n",
    "        plt.xlabel(\"거리 차이\", fontsize=14, fontproperties=fontprop)\n",
    "        plt.ylabel(\"밀도\", fontsize=14, fontproperties=fontprop)\n",
    "        plt.title(f\"[{task} | {','.join(pair_name_list)}] {kor_prop_name}에 따른 거리 차이의 커널 밀도 추정\", fontsize=16, fontproperties=fontprop)\n",
    "        plt.legend(title=prop_name.capitalize(), title_fontsize=\"13\", fontsize=12)\n",
    "\n",
    "    print(f'Figure | {\"와 \".join(pair_name_list)}의 {kor_prop_name}에 따른 거리 차이의 커널 밀도 추정')\n",
    "\n",
    "    # Removing top and right borders\n",
    "    sns.despine()\n",
    "\n",
    "    plt.xlim(-15, 15)\n",
    "    plt.tight_layout()  # for better layout\n",
    "    plt.show()\n"
   ]
  },
  {
   "cell_type": "markdown",
   "metadata": {},
   "source": [
    "### KDE"
   ]
  },
  {
   "cell_type": "markdown",
   "metadata": {},
   "source": [
    "#### Gender"
   ]
  },
  {
   "cell_type": "code",
   "execution_count": null,
   "metadata": {},
   "outputs": [],
   "source": [
    "prop_name = \"gender\"\n",
    "draw_metric_kde(prop_name, pair_list)"
   ]
  },
  {
   "cell_type": "markdown",
   "metadata": {},
   "source": [
    "#### Category"
   ]
  },
  {
   "cell_type": "code",
   "execution_count": null,
   "metadata": {},
   "outputs": [],
   "source": [
    "prop_name = \"category\"\n",
    "draw_metric_kde(prop_name, pair_list)"
   ]
  },
  {
   "cell_type": "markdown",
   "metadata": {},
   "source": [
    "#### Age_group"
   ]
  },
  {
   "cell_type": "code",
   "execution_count": null,
   "metadata": {},
   "outputs": [],
   "source": [
    "def draw_metric_single_kde(prop_name, pair_list):\n",
    "    sns.set(style=\"whitegrid\")  # setting seaborn style\n",
    "    plt.figure(figsize=(10, 6))  # specifying figure size\n",
    "\n",
    "    pair_name_list = []\n",
    "    for sub_task in pair_list:\n",
    "        task = sub_task.model_type.rsplit('-')[0].upper()\n",
    "        lr = get_lr(sub_task, prop_name)\n",
    "        pair_name_list.append(f\"{task} | {sub_task.pair_name}\")    \n",
    "        for tag in lr.total.unique():\n",
    "            sub_frame = lr[lr.total == tag].distance - lr.best_distance\n",
    "            sns.kdeplot(sub_frame, label=f\"[{task} | {sub_task.pair_name}] {tag}\", fill=True, alpha=0.1)\n",
    "            break\n",
    "\n",
    "    # Setting labels and title\n",
    "    plt.xlabel(\"거리 차이\", fontsize=14, fontproperties=fontprop)\n",
    "    plt.ylabel(\"밀도\", fontsize=14, fontproperties=fontprop)\n",
    "    plt.title(f\"[{', '.join(pair_name_list)}] 거리 차이의 커널 밀도 추정\", fontsize=16, fontproperties=fontprop)\n",
    "    plt.legend(title=prop_name.capitalize(), title_fontsize=\"13\", fontsize=12)\n",
    "    plt.xlim(-15, 15)\n",
    "\n",
    "    # Removing top and right borders\n",
    "    sns.despine()\n",
    "\n",
    "    plt.show()\n"
   ]
  },
  {
   "cell_type": "code",
   "execution_count": null,
   "metadata": {},
   "outputs": [],
   "source": [
    "prop_name = \"gender\"\n",
    "draw_metric_single_kde(prop_name, pair_list)"
   ]
  },
  {
   "cell_type": "markdown",
   "metadata": {},
   "source": [
    "### Scatter"
   ]
  },
  {
   "cell_type": "markdown",
   "metadata": {},
   "source": [
    "#### Age"
   ]
  },
  {
   "cell_type": "code",
   "execution_count": null,
   "metadata": {},
   "outputs": [],
   "source": [
    "from matplotlib.colors import LogNorm"
   ]
  },
  {
   "cell_type": "code",
   "execution_count": null,
   "metadata": {},
   "outputs": [],
   "source": [
    "def draw_metric_scatter(prop_name, pair_list):\n",
    "    # 한글 폰트 설정\n",
    "    font_name = font_manager.FontProperties(\n",
    "        fname=\"/usr/share/fonts/NanumFont/NanumGothicBold.ttf\"\n",
    "    ).get_name()\n",
    "    plt.rc(\"font\", family=font_name)\n",
    "\n",
    "    fig, axs = plt.subplots(\n",
    "        nrows=1, ncols=len(pair_list), figsize=(10 * len(pair_list), 8)\n",
    "    )\n",
    "\n",
    "    pair_name_list = []\n",
    "    for i, sub_task in enumerate(pair_list):\n",
    "        task = sub_task.model_type.rsplit('-')[0].upper()\n",
    "        lr = get_lr(sub_task, prop_name)\n",
    "\n",
    "        # Scatter plot\n",
    "        temp = pd.concat([lr, abs(lr.age_left - lr.age_right)], axis=1)\n",
    "        temp.columns = temp.columns[:-1].append(pd.Index([\"age_diff\"]))\n",
    "        selected = pd.DataFrame(\n",
    "            temp.groupby(\"age_diff\").sum().correct\n",
    "            / temp.groupby(\"age_diff\").count().correct\n",
    "        ).sort_values(by=\"correct\")\n",
    "\n",
    "        # cmap과 norm을 설정하여 데이터의 수에 따라 색상을 조정합니다.\n",
    "        cmap = plt.cm.get_cmap(\"PRGn\")\n",
    "        norm = LogNorm(\n",
    "            vmin=temp.groupby(\"age_diff\").count().correct.min(),\n",
    "            vmax=temp.groupby(\"age_diff\").count().correct.max(),\n",
    "        )\n",
    "\n",
    "        scatter = axs[i].scatter(\n",
    "            selected.index,\n",
    "            selected.correct,\n",
    "            c=temp.groupby(\"age_diff\").count().correct,\n",
    "            cmap=cmap,\n",
    "            norm=norm,\n",
    "            alpha=0.7,\n",
    "        )\n",
    "\n",
    "        # colorbar 추가\n",
    "        cbar = fig.colorbar(scatter, ax=axs[i])\n",
    "        cbar.set_label(\"데이터 수\", rotation=270, labelpad=15, fontsize=10)\n",
    "\n",
    "        # x, y 축 라벨 및 타이틀 설정\n",
    "        axs[i].set_xlabel(\"나이 또는 나이 그룹의 평균 나이 차이(절대값)\", fontsize=12)\n",
    "        axs[i].set_ylabel(\"검증 정확도\", fontsize=12)\n",
    "        axs[i].set_title(f\"[{task} | {sub_task.pair_name}] 나이 차이에 따른 검증 정확도\", fontsize=14)\n",
    "        axs[i].set_xlim(0)\n",
    "        axs[i].set_ylim(0.5)\n",
    "        pair_name_list.append(sub_task.pair_name)\n",
    "\n",
    "    print(f'Figure | {\"와 \".join(pair_name_list)}의 나이 차이에 따른 검증 정확도')\n",
    "    plt.tight_layout()\n",
    "    plt.show()"
   ]
  },
  {
   "cell_type": "code",
   "execution_count": null,
   "metadata": {},
   "outputs": [],
   "source": [
    "prop_name = \"age\"\n",
    "draw_metric_scatter(prop_name, pair_list)"
   ]
  },
  {
   "cell_type": "code",
   "execution_count": null,
   "metadata": {},
   "outputs": [],
   "source": []
  }
 ],
 "metadata": {
  "kernelspec": {
   "display_name": "face",
   "language": "python",
   "name": "python3"
  },
  "language_info": {
   "codemirror_mode": {
    "name": "ipython",
    "version": 3
   },
   "file_extension": ".py",
   "mimetype": "text/x-python",
   "name": "python",
   "nbconvert_exporter": "python",
   "pygments_lexer": "ipython3",
   "version": "3.7.12"
  },
  "orig_nbformat": 4
 },
 "nbformat": 4,
 "nbformat_minor": 2
}
