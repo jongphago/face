{
 "cells": [
  {
   "cell_type": "code",
   "execution_count": null,
   "metadata": {},
   "outputs": [],
   "source": [
    "from typing import List\n",
    "import numpy as np\n",
    "import pandas as pd\n",
    "from sklearn.model_selection import train_test_split\n"
   ]
  },
  {
   "cell_type": "code",
   "execution_count": null,
   "metadata": {},
   "outputs": [],
   "source": [
    "from fpt.path import DTFR, UTIL\n",
    "from fpt.data import join_face_df\n",
    "from fpt.path import get_face_image_path_from_series as get_path\n",
    "from fpt.split import get_split_path, write_split, read_split\n"
   ]
  },
  {
   "cell_type": "code",
   "execution_count": null,
   "metadata": {},
   "outputs": [],
   "source": [
    "data_category = \"aihub_family\""
   ]
  },
  {
   "cell_type": "code",
   "execution_count": null,
   "metadata": {},
   "outputs": [],
   "source": [
    "face = join_face_df(DTFR, \"aihub_family\")\n",
    "family_ids = face.family_id.unique()\n",
    "assert len(family_ids) == 900"
   ]
  },
  {
   "cell_type": "code",
   "execution_count": null,
   "metadata": {},
   "outputs": [],
   "source": [
    "train_family_id = [f\"F{i:04d}\" for i in range(1, 701)]\n",
    "valid_family_id = [f\"F{i:04d}\" for i in range(701, 801)]\n",
    "test_family_id = [f\"F{i:04d}\" for i in range(801, 901)]\n"
   ]
  },
  {
   "cell_type": "code",
   "execution_count": null,
   "metadata": {},
   "outputs": [],
   "source": [
    "def get_split_index(split_family_id, face=face):\n",
    "    index = pd.Index([])\n",
    "    for family_id in split_family_id:\n",
    "        indices = face[face.family_id == family_id].index\n",
    "        index = index.append(indices)\n",
    "    return index\n"
   ]
  },
  {
   "cell_type": "code",
   "execution_count": null,
   "metadata": {},
   "outputs": [],
   "source": [
    "train_index = get_split_index(train_family_id)\n",
    "valid_index = get_split_index(valid_family_id)\n",
    "test_index = get_split_index(test_family_id)\n",
    "\n",
    "x_train, y_train = np.array(train_index), np.array(face.loc[train_index].target)\n",
    "x_valid, y_valid = np.array(valid_index), np.array(face.loc[valid_index].target)\n",
    "x_test, y_test = np.array(test_index), np.array(face.loc[test_index].target)\n"
   ]
  },
  {
   "cell_type": "code",
   "execution_count": null,
   "metadata": {},
   "outputs": [],
   "source": [
    "face.loc[x_test].info()\n"
   ]
  },
  {
   "cell_type": "code",
   "execution_count": null,
   "metadata": {},
   "outputs": [],
   "source": [
    "write_split(\"train\", x_train)\n",
    "write_split(\"valid\", x_valid)\n",
    "write_split(\"test\", x_test)\n"
   ]
  },
  {
   "cell_type": "code",
   "execution_count": null,
   "metadata": {},
   "outputs": [],
   "source": [
    "valid_face_uuids: List[str] = read_split(\"valid\")\n",
    "valid: pd.DataFrame = face.loc[valid_face_uuids]\n",
    "valid.shape\n"
   ]
  }
 ],
 "metadata": {
  "kernelspec": {
   "display_name": "face",
   "language": "python",
   "name": "python3"
  },
  "language_info": {
   "codemirror_mode": {
    "name": "ipython",
    "version": 3
   },
   "file_extension": ".py",
   "mimetype": "text/x-python",
   "name": "python",
   "nbconvert_exporter": "python",
   "pygments_lexer": "ipython3",
   "version": "3.7.12"
  },
  "orig_nbformat": 4
 },
 "nbformat": 4,
 "nbformat_minor": 2
}
