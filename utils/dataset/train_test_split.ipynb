{
 "cells": [
  {
   "cell_type": "code",
   "execution_count": 2,
   "metadata": {},
   "outputs": [],
   "source": [
    "import numpy as np\n",
    "import pandas as pd\n",
    "from sklearn.model_selection import train_test_split"
   ]
  },
  {
   "cell_type": "code",
   "execution_count": 3,
   "metadata": {},
   "outputs": [],
   "source": [
    "from fpt.path import DTFR\n",
    "from fpt.data import join_face_df"
   ]
  },
  {
   "cell_type": "code",
   "execution_count": 4,
   "metadata": {},
   "outputs": [],
   "source": [
    "from fpt.path import get_face_image_path_from_series as get_path\n",
    "data_category = 'aihub_family'"
   ]
  },
  {
   "cell_type": "code",
   "execution_count": 5,
   "metadata": {},
   "outputs": [],
   "source": [
    "face = join_face_df(DTFR, 'aihub_family')\n",
    "family_ids = face.family_id.unique()"
   ]
  },
  {
   "cell_type": "code",
   "execution_count": 6,
   "metadata": {},
   "outputs": [],
   "source": [
    "train, test = train_test_split(family_ids, random_state=21)"
   ]
  },
  {
   "cell_type": "code",
   "execution_count": 7,
   "metadata": {},
   "outputs": [],
   "source": [
    "train_index = pd.Index([])\n",
    "test_index = pd.Index([])\n",
    "for family_id in train:\n",
    "    indices = face[face.family_id == family_id].index\n",
    "    train_index = train_index.append(indices)\n",
    "for family_id in test:\n",
    "    indices = face[face.family_id == family_id].index\n",
    "    test_index = test_index.append(indices)\n",
    "x_train, y_train = np.array(train_index), np.array(face.loc[train_index].target)\n",
    "x_test, y_test = np.array(test_index), np.array(face.loc[test_index].target)"
   ]
  },
  {
   "cell_type": "code",
   "execution_count": 12,
   "metadata": {},
   "outputs": [
    {
     "name": "stdout",
     "output_type": "stream",
     "text": [
      "<class 'pandas.core.frame.DataFrame'>\n",
      "Index: 6439 entries, f2fc0a7a-54e9-4e49-8931-1381a10d535a to 9fbf7feb-1b86-42b9-8259-f3e7a79bd958\n",
      "Data columns (total 11 columns):\n",
      " #   Column         Non-Null Count  Dtype \n",
      "---  ------         --------------  ----- \n",
      " 0   key            6439 non-null   object\n",
      " 1   label          6439 non-null   object\n",
      " 2   image          6439 non-null   object\n",
      " 3   category       6439 non-null   object\n",
      " 4   option         6439 non-null   int64 \n",
      " 5   data_category  6439 non-null   object\n",
      " 6   folder_name    6439 non-null   object\n",
      " 7   family_id      6439 non-null   object\n",
      " 8   personal_id    6439 non-null   object\n",
      " 9   path           6439 non-null   object\n",
      " 10  target         6439 non-null   object\n",
      "dtypes: int64(1), object(10)\n",
      "memory usage: 603.7+ KB\n"
     ]
    }
   ],
   "source": [
    "face.loc[x_train].info()"
   ]
  },
  {
   "cell_type": "code",
   "execution_count": null,
   "metadata": {},
   "outputs": [],
   "source": []
  }
 ],
 "metadata": {
  "kernelspec": {
   "display_name": "face",
   "language": "python",
   "name": "python3"
  },
  "language_info": {
   "codemirror_mode": {
    "name": "ipython",
    "version": 3
   },
   "file_extension": ".py",
   "mimetype": "text/x-python",
   "name": "python",
   "nbconvert_exporter": "python",
   "pygments_lexer": "ipython3",
   "version": "3.7.12"
  },
  "orig_nbformat": 4
 },
 "nbformat": 4,
 "nbformat_minor": 2
}
