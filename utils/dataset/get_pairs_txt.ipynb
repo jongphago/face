{
 "cells": [
  {
   "cell_type": "code",
   "execution_count": 2,
   "metadata": {},
   "outputs": [],
   "source": [
    "from fpt.data import join_face_df\n",
    "from fpt.path import DTFR, UTIL"
   ]
  },
  {
   "cell_type": "code",
   "execution_count": 3,
   "metadata": {},
   "outputs": [],
   "source": [
    "face = join_face_df(DTFR, 'aihub_family')"
   ]
  },
  {
   "cell_type": "code",
   "execution_count": 4,
   "metadata": {},
   "outputs": [],
   "source": [
    "with open(UTIL / 'dataset/split' / 'train_split.txt', 'r') as f:\n",
    "    x_train_id = f.readlines()\n",
    "    x_train_id = [row.rstrip() for row in x_train_id]\n",
    "x_train = face.loc[x_train_id]"
   ]
  },
  {
   "cell_type": "code",
   "execution_count": 13,
   "metadata": {},
   "outputs": [
    {
     "data": {
      "text/plain": [
       "array(['F0063', 'F0074', 'F0001', 'F0014', 'F0069', 'F0484', 'F0412',\n",
       "       'F0464', 'F0482', 'F0419', 'F0070', 'F0080', 'F0002', 'F0068',\n",
       "       'F0065', 'F0073', 'F0004', 'F0067', 'F0017', 'F0416', 'F0456',\n",
       "       'F0007', 'F0019', 'F0078', 'F0006', 'F0013', 'F0431', 'F0061',\n",
       "       'F0079', 'F0077', 'F0413', 'F0429', 'F0435', 'F0009', 'F0011',\n",
       "       'F0075', 'F0076', 'F0475', 'F0453', 'F0005', 'F0016', 'F0010'],\n",
       "      dtype=object)"
      ]
     },
     "execution_count": 13,
     "metadata": {},
     "output_type": "execute_result"
    }
   ],
   "source": [
    "x_train.family_id.unique()"
   ]
  },
  {
   "cell_type": "code",
   "execution_count": 15,
   "metadata": {},
   "outputs": [
    {
     "data": {
      "text/html": [
       "<div>\n",
       "<style scoped>\n",
       "    .dataframe tbody tr th:only-of-type {\n",
       "        vertical-align: middle;\n",
       "    }\n",
       "\n",
       "    .dataframe tbody tr th {\n",
       "        vertical-align: top;\n",
       "    }\n",
       "\n",
       "    .dataframe thead th {\n",
       "        text-align: right;\n",
       "    }\n",
       "</style>\n",
       "<table border=\"1\" class=\"dataframe\">\n",
       "  <thead>\n",
       "    <tr style=\"text-align: right;\">\n",
       "      <th></th>\n",
       "      <th></th>\n",
       "      <th></th>\n",
       "      <th>path</th>\n",
       "    </tr>\n",
       "    <tr>\n",
       "      <th>family_id</th>\n",
       "      <th>personal_id</th>\n",
       "      <th>category</th>\n",
       "      <th></th>\n",
       "    </tr>\n",
       "  </thead>\n",
       "  <tbody>\n",
       "    <tr>\n",
       "      <th rowspan=\"5\" valign=\"top\">F0001</th>\n",
       "      <th rowspan=\"3\" valign=\"top\">D</th>\n",
       "      <th>Age</th>\n",
       "      <td>[/home/jongphago/family-photo-tree/data/face-i...</td>\n",
       "    </tr>\n",
       "    <tr>\n",
       "      <th>Family</th>\n",
       "      <td>[/home/jongphago/family-photo-tree/data/face-i...</td>\n",
       "    </tr>\n",
       "    <tr>\n",
       "      <th>Individuals</th>\n",
       "      <td>[/home/jongphago/family-photo-tree/data/face-i...</td>\n",
       "    </tr>\n",
       "    <tr>\n",
       "      <th rowspan=\"2\" valign=\"top\">GM</th>\n",
       "      <th>Age</th>\n",
       "      <td>[/home/jongphago/family-photo-tree/data/face-i...</td>\n",
       "    </tr>\n",
       "    <tr>\n",
       "      <th>Family</th>\n",
       "      <td>[/home/jongphago/family-photo-tree/data/face-i...</td>\n",
       "    </tr>\n",
       "    <tr>\n",
       "      <th>...</th>\n",
       "      <th>...</th>\n",
       "      <th>...</th>\n",
       "      <td>...</td>\n",
       "    </tr>\n",
       "    <tr>\n",
       "      <th rowspan=\"5\" valign=\"top\">F0484</th>\n",
       "      <th rowspan=\"2\" valign=\"top\">M</th>\n",
       "      <th>Family</th>\n",
       "      <td>[/home/jongphago/family-photo-tree/data/face-i...</td>\n",
       "    </tr>\n",
       "    <tr>\n",
       "      <th>Individuals</th>\n",
       "      <td>[/home/jongphago/family-photo-tree/data/face-i...</td>\n",
       "    </tr>\n",
       "    <tr>\n",
       "      <th rowspan=\"3\" valign=\"top\">S</th>\n",
       "      <th>Age</th>\n",
       "      <td>[/home/jongphago/family-photo-tree/data/face-i...</td>\n",
       "    </tr>\n",
       "    <tr>\n",
       "      <th>Family</th>\n",
       "      <td>[/home/jongphago/family-photo-tree/data/face-i...</td>\n",
       "    </tr>\n",
       "    <tr>\n",
       "      <th>Individuals</th>\n",
       "      <td>[/home/jongphago/family-photo-tree/data/face-i...</td>\n",
       "    </tr>\n",
       "  </tbody>\n",
       "</table>\n",
       "<p>374 rows × 1 columns</p>\n",
       "</div>"
      ],
      "text/plain": [
       "                                                                                path\n",
       "family_id personal_id category                                                      \n",
       "F0001     D           Age          [/home/jongphago/family-photo-tree/data/face-i...\n",
       "                      Family       [/home/jongphago/family-photo-tree/data/face-i...\n",
       "                      Individuals  [/home/jongphago/family-photo-tree/data/face-i...\n",
       "          GM          Age          [/home/jongphago/family-photo-tree/data/face-i...\n",
       "                      Family       [/home/jongphago/family-photo-tree/data/face-i...\n",
       "...                                                                              ...\n",
       "F0484     M           Family       [/home/jongphago/family-photo-tree/data/face-i...\n",
       "                      Individuals  [/home/jongphago/family-photo-tree/data/face-i...\n",
       "          S           Age          [/home/jongphago/family-photo-tree/data/face-i...\n",
       "                      Family       [/home/jongphago/family-photo-tree/data/face-i...\n",
       "                      Individuals  [/home/jongphago/family-photo-tree/data/face-i...\n",
       "\n",
       "[374 rows x 1 columns]"
      ]
     },
     "execution_count": 15,
     "metadata": {},
     "output_type": "execute_result"
    }
   ],
   "source": [
    "x_train.groupby([\"family_id\", \"personal_id\", \"category\"]).path.apply(list).to_frame()"
   ]
  }
 ],
 "metadata": {
  "kernelspec": {
   "display_name": "face",
   "language": "python",
   "name": "python3"
  },
  "language_info": {
   "codemirror_mode": {
    "name": "ipython",
    "version": 3
   },
   "file_extension": ".py",
   "mimetype": "text/x-python",
   "name": "python",
   "nbconvert_exporter": "python",
   "pygments_lexer": "ipython3",
   "version": "3.7.12"
  },
  "orig_nbformat": 4
 },
 "nbformat": 4,
 "nbformat_minor": 2
}
